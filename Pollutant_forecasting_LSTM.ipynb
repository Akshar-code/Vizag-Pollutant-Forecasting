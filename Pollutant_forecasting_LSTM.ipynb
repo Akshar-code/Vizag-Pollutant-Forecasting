{
  "nbformat": 4,
  "nbformat_minor": 0,
  "metadata": {
    "kernelspec": {
      "display_name": "Python 3",
      "language": "python",
      "name": "python3"
    },
    "language_info": {
      "codemirror_mode": {
        "name": "ipython",
        "version": 3
      },
      "file_extension": ".py",
      "mimetype": "text/x-python",
      "name": "python",
      "nbconvert_exporter": "python",
      "pygments_lexer": "ipython3",
      "version": "3.6.9"
    },
    "colab": {
      "name": "Pollutant forecasting - LSTM.ipynb",
      "provenance": [],
      "include_colab_link": true
    }
  },
  "cells": [
    {
      "cell_type": "markdown",
      "metadata": {
        "id": "view-in-github",
        "colab_type": "text"
      },
      "source": [
        "<a href=\"https://colab.research.google.com/github/Akshar-code/Vizag-Pollutant-Forecasting/blob/main/Pollutant_forecasting_LSTM.ipynb\" target=\"_parent\"><img src=\"https://colab.research.google.com/assets/colab-badge.svg\" alt=\"Open In Colab\"/></a>"
      ]
    },
    {
      "cell_type": "code",
      "metadata": {
        "colab": {
          "base_uri": "https://localhost:8080/"
        },
        "id": "Q1MHeN6b5cVg",
        "outputId": "bc855654-778c-4ebc-b889-6cfcc3168744"
      },
      "source": [
        "cd /content/drive/MyDrive/Weather Forecasting Images"
      ],
      "execution_count": null,
      "outputs": [
        {
          "output_type": "stream",
          "text": [
            "[Errno 2] No such file or directory: '/content/drive/MyDrive/Weather Forecasting Images'\n",
            "/content\n"
          ],
          "name": "stdout"
        }
      ]
    },
    {
      "cell_type": "code",
      "metadata": {
        "colab": {
          "base_uri": "https://localhost:8080/"
        },
        "id": "dErvC3T-v9eD",
        "outputId": "1f1d26fe-bf38-4dd5-a58d-70801f95cc32"
      },
      "source": [
        "ls"
      ],
      "execution_count": null,
      "outputs": [
        {
          "output_type": "stream",
          "text": [
            "\u001b[0m\u001b[01;34m'BEST OUTGOING STUDENT _ APPLICATION- AKSHAR KOTTUVADA'\u001b[0m/\n",
            "'Business Model Canvas Template.gslides'\n",
            "\u001b[01;34m'Colab Notebooks'\u001b[0m/\n",
            " \u001b[01;34mCoursera_certifications\u001b[0m/\n",
            "\u001b[01;34m'Final Twitter Data'\u001b[0m/\n",
            "'Investment Calculator.xlsx'\n",
            "'JHU Housing.gsheet'\n",
            " \u001b[01;34mMathworks_certifications\u001b[0m/\n",
            " \u001b[01;34mNPTEL_certifications\u001b[0m/\n",
            "\u001b[01;34m'Tableau DATA VISUALISATION CHALLENGE'\u001b[0m/\n",
            "\u001b[01;34m'Year Wise Data'\u001b[0m/\n"
          ],
          "name": "stdout"
        }
      ]
    },
    {
      "cell_type": "code",
      "metadata": {
        "colab": {
          "base_uri": "https://localhost:8080/"
        },
        "id": "yKoDAx5ZwdK_",
        "outputId": "5367d185-79ef-4e2a-babf-e0c7888d0879"
      },
      "source": [
        ""
      ],
      "execution_count": null,
      "outputs": [
        {
          "output_type": "stream",
          "text": [
            "Mounted at /content/drive\n"
          ],
          "name": "stdout"
        }
      ]
    },
    {
      "cell_type": "code",
      "metadata": {
        "id": "cN9_4ltPwo1I",
        "colab": {
          "base_uri": "https://localhost:8080/"
        },
        "outputId": "b8578713-f4a0-4f19-b24e-6b281404b25e"
      },
      "source": [
        "from google.colab import drive\n",
        "drive.mount('/content/drive')"
      ],
      "execution_count": null,
      "outputs": [
        {
          "output_type": "stream",
          "text": [
            "Drive already mounted at /content/drive; to attempt to forcibly remount, call drive.mount(\"/content/drive\", force_remount=True).\n"
          ],
          "name": "stdout"
        }
      ]
    },
    {
      "cell_type": "code",
      "metadata": {
        "id": "DtA_lxOksqL9"
      },
      "source": [
        "import pandas as pd\n",
        "import matplotlib.pyplot as plt\n",
        "import numpy as np\n",
        "from sklearn.preprocessing import MinMaxScaler\n",
        "import tensorflow as tf\n",
        "import math\n",
        "from sklearn.metrics import mean_squared_error\n",
        "df=pd.read_csv('pollution.csv')"
      ],
      "execution_count": null,
      "outputs": []
    },
    {
      "cell_type": "code",
      "metadata": {
        "colab": {
          "base_uri": "https://localhost:8080/",
          "height": 326
        },
        "id": "kMDN3jP4sqMA",
        "outputId": "1da51a2b-22fe-4482-beef-18a171b4b87a"
      },
      "source": [
        "df.head()"
      ],
      "execution_count": null,
      "outputs": [
        {
          "output_type": "execute_result",
          "data": {
            "text/html": [
              "<div>\n",
              "<style scoped>\n",
              "    .dataframe tbody tr th:only-of-type {\n",
              "        vertical-align: middle;\n",
              "    }\n",
              "\n",
              "    .dataframe tbody tr th {\n",
              "        vertical-align: top;\n",
              "    }\n",
              "\n",
              "    .dataframe thead th {\n",
              "        text-align: right;\n",
              "    }\n",
              "</style>\n",
              "<table border=\"1\" class=\"dataframe\">\n",
              "  <thead>\n",
              "    <tr style=\"text-align: right;\">\n",
              "      <th></th>\n",
              "      <th>From Date</th>\n",
              "      <th>PM2.5</th>\n",
              "      <th>PM10</th>\n",
              "      <th>NO</th>\n",
              "      <th>NO2</th>\n",
              "      <th>NOx</th>\n",
              "      <th>NH3</th>\n",
              "      <th>SO2</th>\n",
              "      <th>CO</th>\n",
              "      <th>Ozone</th>\n",
              "      <th>Benzene</th>\n",
              "      <th>Toluene</th>\n",
              "      <th>Temp</th>\n",
              "      <th>RH</th>\n",
              "      <th>WS</th>\n",
              "      <th>Xylene</th>\n",
              "    </tr>\n",
              "  </thead>\n",
              "  <tbody>\n",
              "    <tr>\n",
              "      <th>0</th>\n",
              "      <td>01/07/17 0:00</td>\n",
              "      <td>34.45</td>\n",
              "      <td>58.86</td>\n",
              "      <td>3.33</td>\n",
              "      <td>16.91</td>\n",
              "      <td>11.45</td>\n",
              "      <td>5.12</td>\n",
              "      <td>34.78</td>\n",
              "      <td>1.38</td>\n",
              "      <td>62.20</td>\n",
              "      <td>3.59</td>\n",
              "      <td>8.32</td>\n",
              "      <td>42.54</td>\n",
              "      <td>81.47</td>\n",
              "      <td>1.76</td>\n",
              "      <td>2.53</td>\n",
              "    </tr>\n",
              "    <tr>\n",
              "      <th>1</th>\n",
              "      <td>02/07/17 0:00</td>\n",
              "      <td>40.48</td>\n",
              "      <td>110.71</td>\n",
              "      <td>3.01</td>\n",
              "      <td>15.35</td>\n",
              "      <td>10.61</td>\n",
              "      <td>3.81</td>\n",
              "      <td>13.97</td>\n",
              "      <td>1.12</td>\n",
              "      <td>9.77</td>\n",
              "      <td>3.47</td>\n",
              "      <td>9.02</td>\n",
              "      <td>27.06</td>\n",
              "      <td>79.99</td>\n",
              "      <td>1.92</td>\n",
              "      <td>2.08</td>\n",
              "    </tr>\n",
              "    <tr>\n",
              "      <th>2</th>\n",
              "      <td>03/07/17 0:00</td>\n",
              "      <td>42.87</td>\n",
              "      <td>105.22</td>\n",
              "      <td>3.39</td>\n",
              "      <td>19.65</td>\n",
              "      <td>13.20</td>\n",
              "      <td>4.40</td>\n",
              "      <td>31.77</td>\n",
              "      <td>0.31</td>\n",
              "      <td>13.50</td>\n",
              "      <td>3.99</td>\n",
              "      <td>11.21</td>\n",
              "      <td>27.20</td>\n",
              "      <td>76.49</td>\n",
              "      <td>1.81</td>\n",
              "      <td>3.03</td>\n",
              "    </tr>\n",
              "    <tr>\n",
              "      <th>3</th>\n",
              "      <td>04/07/17 0:00</td>\n",
              "      <td>46.26</td>\n",
              "      <td>123.44</td>\n",
              "      <td>3.19</td>\n",
              "      <td>16.26</td>\n",
              "      <td>11.23</td>\n",
              "      <td>4.98</td>\n",
              "      <td>31.88</td>\n",
              "      <td>0.00</td>\n",
              "      <td>15.14</td>\n",
              "      <td>4.86</td>\n",
              "      <td>12.12</td>\n",
              "      <td>27.67</td>\n",
              "      <td>71.53</td>\n",
              "      <td>1.84</td>\n",
              "      <td>2.90</td>\n",
              "    </tr>\n",
              "    <tr>\n",
              "      <th>4</th>\n",
              "      <td>05/07/17 0:00</td>\n",
              "      <td>49.75</td>\n",
              "      <td>128.45</td>\n",
              "      <td>3.62</td>\n",
              "      <td>16.90</td>\n",
              "      <td>11.91</td>\n",
              "      <td>4.65</td>\n",
              "      <td>31.36</td>\n",
              "      <td>0.00</td>\n",
              "      <td>14.31</td>\n",
              "      <td>4.11</td>\n",
              "      <td>12.94</td>\n",
              "      <td>27.41</td>\n",
              "      <td>68.27</td>\n",
              "      <td>1.68</td>\n",
              "      <td>2.60</td>\n",
              "    </tr>\n",
              "  </tbody>\n",
              "</table>\n",
              "</div>"
            ],
            "text/plain": [
              "       From Date  PM2.5    PM10    NO  ...   Temp     RH    WS  Xylene\n",
              "0  01/07/17 0:00  34.45   58.86  3.33  ...  42.54  81.47  1.76    2.53\n",
              "1  02/07/17 0:00  40.48  110.71  3.01  ...  27.06  79.99  1.92    2.08\n",
              "2  03/07/17 0:00  42.87  105.22  3.39  ...  27.20  76.49  1.81    3.03\n",
              "3  04/07/17 0:00  46.26  123.44  3.19  ...  27.67  71.53  1.84    2.90\n",
              "4  05/07/17 0:00  49.75  128.45  3.62  ...  27.41  68.27  1.68    2.60\n",
              "\n",
              "[5 rows x 16 columns]"
            ]
          },
          "metadata": {
            "tags": []
          },
          "execution_count": 7
        }
      ]
    },
    {
      "cell_type": "code",
      "metadata": {
        "colab": {
          "base_uri": "https://localhost:8080/",
          "height": 281
        },
        "id": "Se4gbU13sqMD",
        "outputId": "77f129dc-85b9-40cb-e026-054d58f0cb60"
      },
      "source": [
        "df1=df.reset_index()['PM10']\n",
        "plt.title('Overall Data, values shown in μg/m3')\n",
        "plt.plot(df1)\n",
        "plt.savefig('PM/Overall data.png')"
      ],
      "execution_count": null,
      "outputs": [
        {
          "output_type": "display_data",
          "data": {
            "image/png": "[encoded data removed]",
            "text/plain": [
              "<Figure size 432x288 with 1 Axes>"
            ]
          },
          "metadata": {
            "tags": [],
            "needs_background": "light"
          }
        }
      ]
    },
    {
      "cell_type": "code",
      "metadata": {
        "colab": {
          "base_uri": "https://localhost:8080/"
        },
        "id": "nKomACcSsqMJ",
        "outputId": "ec960ea7-ec0e-4b4c-baae-ddff009c7714"
      },
      "source": [
        "#Normalisation\n",
        "scaler=MinMaxScaler(feature_range=(0,1))\n",
        "df1=scaler.fit_transform(np.array(df1).reshape(-1,1))\n",
        "print(df1)"
      ],
      "execution_count": null,
      "outputs": [
        {
          "output_type": "stream",
          "text": [
            "[[0.16821736]\n",
            " [0.19805998]\n",
            " [0.20988815]\n",
            " ...\n",
            " [0.06176383]\n",
            " [0.04795605]\n",
            " [0.05899238]]\n"
          ],
          "name": "stdout"
        }
      ]
    },
    {
      "cell_type": "code",
      "metadata": {
        "colab": {
          "base_uri": "https://localhost:8080/"
        },
        "id": "ORvCB3EwsqML",
        "outputId": "cc6b5dd7-8a40-4956-a61a-a51d1804214a"
      },
      "source": [
        "##splitting dataset into train and test split\n",
        "training_size=int(len(df1)*0.90)\n",
        "test_size=len(df1)-training_size\n",
        "train_data,test_data=df1[0:training_size,:],df1[training_size:len(df1),:1]\n",
        "training_size,test_size"
      ],
      "execution_count": null,
      "outputs": [
        {
          "output_type": "execute_result",
          "data": {
            "text/plain": [
              "(1196, 133)"
            ]
          },
          "metadata": {
            "tags": []
          },
          "execution_count": 61
        }
      ]
    },
    {
      "cell_type": "code",
      "metadata": {
        "colab": {
          "base_uri": "https://localhost:8080/"
        },
        "id": "cuUdEpMisqMN",
        "outputId": "657722a7-9edb-4d90-e2fe-57bde98fc355"
      },
      "source": [
        "train_data"
      ],
      "execution_count": null,
      "outputs": [
        {
          "output_type": "execute_result",
          "data": {
            "text/plain": [
              "array([[0.16821736],\n",
              "       [0.19805998],\n",
              "       [0.20988815],\n",
              "       ...,\n",
              "       [0.2883302 ],\n",
              "       [0.27536375],\n",
              "       [0.32510146]])"
            ]
          },
          "metadata": {
            "tags": []
          },
          "execution_count": 62
        }
      ]
    },
    {
      "cell_type": "code",
      "metadata": {
        "id": "MlmXYZHWsqMO"
      },
      "source": [
        "# convert an array of values into a dataset matrix\n",
        "def create_dataset(dataset, time_step=1):\n",
        "\tdataX, dataY = [], []\n",
        "\tfor i in range(len(dataset)-time_step-1):\n",
        "\t\ta = dataset[i:(i+time_step), 0]   ###i=0, 0,1,2,3-----99   100 \n",
        "\t\tdataX.append(a)\n",
        "\t\tdataY.append(dataset[i + time_step, 0])\n",
        "\treturn np.array(dataX), np.array(dataY)"
      ],
      "execution_count": null,
      "outputs": []
    },
    {
      "cell_type": "code",
      "metadata": {
        "id": "vt5fYjHnsqMO"
      },
      "source": [
        "# reshape into X=t,t+1,t+2,t+3 and Y=t+4\n",
        "time_step = 100\n",
        "X_train, y_train = create_dataset(train_data, time_step)\n",
        "X_test, ytest = create_dataset(test_data, time_step)"
      ],
      "execution_count": null,
      "outputs": []
    },
    {
      "cell_type": "code",
      "metadata": {
        "colab": {
          "base_uri": "https://localhost:8080/"
        },
        "id": "dvIMzt60sqMP",
        "outputId": "8f07e843-632d-4969-f49a-3c00c5b20d91"
      },
      "source": [
        "print(X_train.shape), print(y_train.shape)"
      ],
      "execution_count": null,
      "outputs": [
        {
          "output_type": "stream",
          "text": [
            "(1095, 100)\n",
            "(1095,)\n"
          ],
          "name": "stdout"
        },
        {
          "output_type": "execute_result",
          "data": {
            "text/plain": [
              "(None, None)"
            ]
          },
          "metadata": {
            "tags": []
          },
          "execution_count": 65
        }
      ]
    },
    {
      "cell_type": "code",
      "metadata": {
        "colab": {
          "base_uri": "https://localhost:8080/"
        },
        "id": "gYNC5NDKsqMQ",
        "outputId": "100f508e-8f84-456c-db5e-c25ab72e55cf"
      },
      "source": [
        "print(X_test.shape), print(ytest.shape)"
      ],
      "execution_count": null,
      "outputs": [
        {
          "output_type": "stream",
          "text": [
            "(32, 100)\n",
            "(32,)\n"
          ],
          "name": "stdout"
        },
        {
          "output_type": "execute_result",
          "data": {
            "text/plain": [
              "(None, None)"
            ]
          },
          "metadata": {
            "tags": []
          },
          "execution_count": 66
        }
      ]
    },
    {
      "cell_type": "code",
      "metadata": {
        "id": "uaBE6vbcsqMQ"
      },
      "source": [
        "# reshape input to be [samples, time steps, features] which is required for LSTM\n",
        "X_train =X_train.reshape(X_train.shape[0],X_train.shape[1] , 1)\n",
        "X_test = X_test.reshape(X_test.shape[0],X_test.shape[1] , 1)"
      ],
      "execution_count": null,
      "outputs": []
    },
    {
      "cell_type": "code",
      "metadata": {
        "id": "0QKc-O31sqMR"
      },
      "source": [
        "### Create the Stacked LSTM model\n",
        "from tensorflow.keras.models import Sequential\n",
        "from tensorflow.keras.layers import Dense\n",
        "from tensorflow.keras.layers import LSTM"
      ],
      "execution_count": null,
      "outputs": []
    },
    {
      "cell_type": "code",
      "metadata": {
        "id": "252yoHVPsqMS"
      },
      "source": [
        "model=Sequential()\n",
        "model.add(LSTM(50,return_sequences=True,input_shape=(100,1)))\n",
        "model.add(LSTM(50,return_sequences=True))\n",
        "model.add(LSTM(50))\n",
        "model.add(Dense(1))\n",
        "model.compile(loss='mean_squared_error',optimizer='adam')\n"
      ],
      "execution_count": null,
      "outputs": []
    },
    {
      "cell_type": "code",
      "metadata": {
        "colab": {
          "base_uri": "https://localhost:8080/"
        },
        "id": "Sc1aAwB9sqMS",
        "outputId": "16cd0f29-6efd-4d51-99fe-51907898a9db"
      },
      "source": [
        "model.summary()"
      ],
      "execution_count": null,
      "outputs": [
        {
          "output_type": "stream",
          "text": [
            "Model: \"sequential_1\"\n",
            "_________________________________________________________________\n",
            "Layer (type)                 Output Shape              Param #   \n",
            "=================================================================\n",
            "lstm_3 (LSTM)                (None, 100, 50)           10400     \n",
            "_________________________________________________________________\n",
            "lstm_4 (LSTM)                (None, 100, 50)           20200     \n",
            "_________________________________________________________________\n",
            "lstm_5 (LSTM)                (None, 50)                20200     \n",
            "_________________________________________________________________\n",
            "dense_1 (Dense)              (None, 1)                 51        \n",
            "=================================================================\n",
            "Total params: 50,851\n",
            "Trainable params: 50,851\n",
            "Non-trainable params: 0\n",
            "_________________________________________________________________\n"
          ],
          "name": "stdout"
        }
      ]
    },
    {
      "cell_type": "code",
      "metadata": {
        "colab": {
          "base_uri": "https://localhost:8080/"
        },
        "id": "Cup8YWiNsqMU",
        "outputId": "2102bf92-fc41-41d0-b149-9078fc1d099d"
      },
      "source": [
        "model.fit(X_train,y_train,validation_data=(X_test,ytest),epochs=100,batch_size=64,verbose=1)"
      ],
      "execution_count": null,
      "outputs": [
        {
          "output_type": "stream",
          "text": [
            "Epoch 1/100\n",
            "18/18 [==============================] - 10s 248ms/step - loss: 0.0351 - val_loss: 0.0122\n",
            "Epoch 2/100\n",
            "18/18 [==============================] - 3s 189ms/step - loss: 0.0133 - val_loss: 0.0127\n",
            "Epoch 3/100\n",
            "18/18 [==============================] - 3s 185ms/step - loss: 0.0130 - val_loss: 0.0138\n",
            "Epoch 4/100\n",
            "18/18 [==============================] - 3s 190ms/step - loss: 0.0131 - val_loss: 0.0129\n",
            "Epoch 5/100\n",
            "18/18 [==============================] - 3s 187ms/step - loss: 0.0114 - val_loss: 0.0125\n",
            "Epoch 6/100\n",
            "18/18 [==============================] - 3s 193ms/step - loss: 0.0118 - val_loss: 0.0123\n",
            "Epoch 7/100\n",
            "18/18 [==============================] - 3s 193ms/step - loss: 0.0122 - val_loss: 0.0118\n",
            "Epoch 8/100\n",
            "18/18 [==============================] - 3s 192ms/step - loss: 0.0112 - val_loss: 0.0114\n",
            "Epoch 9/100\n",
            "18/18 [==============================] - 4s 195ms/step - loss: 0.0105 - val_loss: 0.0118\n",
            "Epoch 10/100\n",
            "18/18 [==============================] - 4s 199ms/step - loss: 0.0130 - val_loss: 0.0106\n",
            "Epoch 11/100\n",
            "18/18 [==============================] - 4s 195ms/step - loss: 0.0103 - val_loss: 0.0098\n",
            "Epoch 12/100\n",
            "18/18 [==============================] - 3s 192ms/step - loss: 0.0108 - val_loss: 0.0093\n",
            "Epoch 13/100\n",
            "18/18 [==============================] - 4s 198ms/step - loss: 0.0106 - val_loss: 0.0086\n",
            "Epoch 14/100\n",
            "18/18 [==============================] - 4s 194ms/step - loss: 0.0111 - val_loss: 0.0079\n",
            "Epoch 15/100\n",
            "18/18 [==============================] - 3s 193ms/step - loss: 0.0088 - val_loss: 0.0075\n",
            "Epoch 16/100\n",
            "18/18 [==============================] - 4s 195ms/step - loss: 0.0088 - val_loss: 0.0069\n",
            "Epoch 17/100\n",
            "18/18 [==============================] - 4s 197ms/step - loss: 0.0092 - val_loss: 0.0070\n",
            "Epoch 18/100\n",
            "18/18 [==============================] - 4s 197ms/step - loss: 0.0092 - val_loss: 0.0068\n",
            "Epoch 19/100\n",
            "18/18 [==============================] - 4s 196ms/step - loss: 0.0090 - val_loss: 0.0070\n",
            "Epoch 20/100\n",
            "18/18 [==============================] - 4s 195ms/step - loss: 0.0080 - val_loss: 0.0076\n",
            "Epoch 21/100\n",
            "18/18 [==============================] - 4s 198ms/step - loss: 0.0084 - val_loss: 0.0063\n",
            "Epoch 22/100\n",
            "18/18 [==============================] - 4s 196ms/step - loss: 0.0081 - val_loss: 0.0067\n",
            "Epoch 23/100\n",
            "18/18 [==============================] - 4s 195ms/step - loss: 0.0084 - val_loss: 0.0067\n",
            "Epoch 24/100\n",
            "18/18 [==============================] - 4s 194ms/step - loss: 0.0076 - val_loss: 0.0058\n",
            "Epoch 25/100\n",
            "18/18 [==============================] - 3s 193ms/step - loss: 0.0072 - val_loss: 0.0061\n",
            "Epoch 26/100\n",
            "18/18 [==============================] - 4s 199ms/step - loss: 0.0073 - val_loss: 0.0062\n",
            "Epoch 27/100\n",
            "18/18 [==============================] - 4s 195ms/step - loss: 0.0064 - val_loss: 0.0068\n",
            "Epoch 28/100\n",
            "18/18 [==============================] - 4s 200ms/step - loss: 0.0090 - val_loss: 0.0054\n",
            "Epoch 29/100\n",
            "18/18 [==============================] - 4s 196ms/step - loss: 0.0064 - val_loss: 0.0050\n",
            "Epoch 30/100\n",
            "18/18 [==============================] - 4s 196ms/step - loss: 0.0065 - val_loss: 0.0048\n",
            "Epoch 31/100\n",
            "18/18 [==============================] - 4s 196ms/step - loss: 0.0065 - val_loss: 0.0052\n",
            "Epoch 32/100\n",
            "18/18 [==============================] - 4s 197ms/step - loss: 0.0066 - val_loss: 0.0048\n",
            "Epoch 33/100\n",
            "18/18 [==============================] - 4s 198ms/step - loss: 0.0066 - val_loss: 0.0080\n",
            "Epoch 34/100\n",
            "18/18 [==============================] - 4s 195ms/step - loss: 0.0085 - val_loss: 0.0059\n",
            "Epoch 35/100\n",
            "18/18 [==============================] - 4s 206ms/step - loss: 0.0067 - val_loss: 0.0047\n",
            "Epoch 36/100\n",
            "18/18 [==============================] - 4s 219ms/step - loss: 0.0081 - val_loss: 0.0048\n",
            "Epoch 37/100\n",
            "18/18 [==============================] - 4s 216ms/step - loss: 0.0085 - val_loss: 0.0047\n",
            "Epoch 38/100\n",
            "18/18 [==============================] - 4s 199ms/step - loss: 0.0058 - val_loss: 0.0047\n",
            "Epoch 39/100\n",
            "18/18 [==============================] - 3s 194ms/step - loss: 0.0059 - val_loss: 0.0046\n",
            "Epoch 40/100\n",
            "18/18 [==============================] - 4s 197ms/step - loss: 0.0073 - val_loss: 0.0046\n",
            "Epoch 41/100\n",
            "18/18 [==============================] - 4s 197ms/step - loss: 0.0063 - val_loss: 0.0048\n",
            "Epoch 42/100\n",
            "18/18 [==============================] - 4s 196ms/step - loss: 0.0059 - val_loss: 0.0053\n",
            "Epoch 43/100\n",
            "18/18 [==============================] - 4s 198ms/step - loss: 0.0062 - val_loss: 0.0054\n",
            "Epoch 44/100\n",
            "18/18 [==============================] - 4s 199ms/step - loss: 0.0070 - val_loss: 0.0054\n",
            "Epoch 45/100\n",
            "18/18 [==============================] - 4s 200ms/step - loss: 0.0074 - val_loss: 0.0047\n",
            "Epoch 46/100\n",
            "18/18 [==============================] - 4s 201ms/step - loss: 0.0067 - val_loss: 0.0048\n",
            "Epoch 47/100\n",
            "18/18 [==============================] - 4s 199ms/step - loss: 0.0070 - val_loss: 0.0045\n",
            "Epoch 48/100\n",
            "18/18 [==============================] - 4s 198ms/step - loss: 0.0074 - val_loss: 0.0044\n",
            "Epoch 49/100\n",
            "18/18 [==============================] - 4s 198ms/step - loss: 0.0071 - val_loss: 0.0046\n",
            "Epoch 50/100\n",
            "18/18 [==============================] - 4s 196ms/step - loss: 0.0075 - val_loss: 0.0049\n",
            "Epoch 51/100\n",
            "18/18 [==============================] - 4s 196ms/step - loss: 0.0070 - val_loss: 0.0046\n",
            "Epoch 52/100\n",
            "18/18 [==============================] - 4s 196ms/step - loss: 0.0063 - val_loss: 0.0044\n",
            "Epoch 53/100\n",
            "18/18 [==============================] - 4s 198ms/step - loss: 0.0056 - val_loss: 0.0043\n",
            "Epoch 54/100\n",
            "18/18 [==============================] - 4s 195ms/step - loss: 0.0064 - val_loss: 0.0044\n",
            "Epoch 55/100\n",
            "18/18 [==============================] - 4s 196ms/step - loss: 0.0057 - val_loss: 0.0053\n",
            "Epoch 56/100\n",
            "18/18 [==============================] - 4s 198ms/step - loss: 0.0063 - val_loss: 0.0045\n",
            "Epoch 57/100\n",
            "18/18 [==============================] - 4s 195ms/step - loss: 0.0065 - val_loss: 0.0045\n",
            "Epoch 58/100\n",
            "18/18 [==============================] - 4s 199ms/step - loss: 0.0072 - val_loss: 0.0044\n",
            "Epoch 59/100\n",
            "18/18 [==============================] - 4s 194ms/step - loss: 0.0058 - val_loss: 0.0044\n",
            "Epoch 60/100\n",
            "18/18 [==============================] - 4s 198ms/step - loss: 0.0060 - val_loss: 0.0043\n",
            "Epoch 61/100\n",
            "18/18 [==============================] - 4s 197ms/step - loss: 0.0064 - val_loss: 0.0045\n",
            "Epoch 62/100\n",
            "18/18 [==============================] - 4s 196ms/step - loss: 0.0055 - val_loss: 0.0043\n",
            "Epoch 63/100\n",
            "18/18 [==============================] - 4s 198ms/step - loss: 0.0064 - val_loss: 0.0045\n",
            "Epoch 64/100\n",
            "18/18 [==============================] - 3s 194ms/step - loss: 0.0054 - val_loss: 0.0043\n",
            "Epoch 65/100\n",
            "18/18 [==============================] - 4s 200ms/step - loss: 0.0058 - val_loss: 0.0046\n",
            "Epoch 66/100\n",
            "18/18 [==============================] - 4s 199ms/step - loss: 0.0054 - val_loss: 0.0044\n",
            "Epoch 67/100\n",
            "18/18 [==============================] - 4s 197ms/step - loss: 0.0066 - val_loss: 0.0042\n",
            "Epoch 68/100\n",
            "18/18 [==============================] - 4s 197ms/step - loss: 0.0055 - val_loss: 0.0045\n",
            "Epoch 69/100\n",
            "18/18 [==============================] - 4s 203ms/step - loss: 0.0056 - val_loss: 0.0042\n",
            "Epoch 70/100\n",
            "18/18 [==============================] - 4s 196ms/step - loss: 0.0062 - val_loss: 0.0044\n",
            "Epoch 71/100\n",
            "18/18 [==============================] - 4s 196ms/step - loss: 0.0048 - val_loss: 0.0043\n",
            "Epoch 72/100\n",
            "18/18 [==============================] - 4s 199ms/step - loss: 0.0056 - val_loss: 0.0046\n",
            "Epoch 73/100\n",
            "18/18 [==============================] - 4s 199ms/step - loss: 0.0051 - val_loss: 0.0046\n",
            "Epoch 74/100\n",
            "18/18 [==============================] - 4s 198ms/step - loss: 0.0055 - val_loss: 0.0043\n",
            "Epoch 75/100\n",
            "18/18 [==============================] - 4s 198ms/step - loss: 0.0059 - val_loss: 0.0044\n",
            "Epoch 76/100\n",
            "18/18 [==============================] - 4s 198ms/step - loss: 0.0056 - val_loss: 0.0046\n",
            "Epoch 77/100\n",
            "18/18 [==============================] - 4s 198ms/step - loss: 0.0055 - val_loss: 0.0045\n",
            "Epoch 78/100\n",
            "18/18 [==============================] - 4s 197ms/step - loss: 0.0065 - val_loss: 0.0047\n",
            "Epoch 79/100\n",
            "18/18 [==============================] - 4s 197ms/step - loss: 0.0058 - val_loss: 0.0046\n",
            "Epoch 80/100\n",
            "18/18 [==============================] - 4s 198ms/step - loss: 0.0064 - val_loss: 0.0046\n",
            "Epoch 81/100\n",
            "18/18 [==============================] - 4s 218ms/step - loss: 0.0052 - val_loss: 0.0048\n",
            "Epoch 82/100\n",
            "18/18 [==============================] - 4s 212ms/step - loss: 0.0057 - val_loss: 0.0047\n",
            "Epoch 83/100\n",
            "18/18 [==============================] - 4s 195ms/step - loss: 0.0055 - val_loss: 0.0051\n",
            "Epoch 84/100\n",
            "18/18 [==============================] - 4s 204ms/step - loss: 0.0061 - val_loss: 0.0045\n",
            "Epoch 85/100\n",
            "18/18 [==============================] - 4s 196ms/step - loss: 0.0053 - val_loss: 0.0047\n",
            "Epoch 86/100\n",
            "18/18 [==============================] - 4s 198ms/step - loss: 0.0065 - val_loss: 0.0043\n",
            "Epoch 87/100\n",
            "18/18 [==============================] - 4s 194ms/step - loss: 0.0053 - val_loss: 0.0044\n",
            "Epoch 88/100\n",
            "18/18 [==============================] - 4s 199ms/step - loss: 0.0065 - val_loss: 0.0044\n",
            "Epoch 89/100\n",
            "18/18 [==============================] - 4s 199ms/step - loss: 0.0058 - val_loss: 0.0048\n",
            "Epoch 90/100\n",
            "18/18 [==============================] - 4s 196ms/step - loss: 0.0054 - val_loss: 0.0043\n",
            "Epoch 91/100\n",
            "18/18 [==============================] - 4s 199ms/step - loss: 0.0052 - val_loss: 0.0051\n",
            "Epoch 92/100\n",
            "18/18 [==============================] - 4s 199ms/step - loss: 0.0056 - val_loss: 0.0046\n",
            "Epoch 93/100\n",
            "18/18 [==============================] - 4s 196ms/step - loss: 0.0056 - val_loss: 0.0047\n",
            "Epoch 94/100\n",
            "18/18 [==============================] - 4s 198ms/step - loss: 0.0060 - val_loss: 0.0040\n",
            "Epoch 95/100\n",
            "18/18 [==============================] - 4s 195ms/step - loss: 0.0065 - val_loss: 0.0042\n",
            "Epoch 96/100\n",
            "18/18 [==============================] - 4s 198ms/step - loss: 0.0052 - val_loss: 0.0043\n",
            "Epoch 97/100\n",
            "18/18 [==============================] - 4s 196ms/step - loss: 0.0055 - val_loss: 0.0045\n",
            "Epoch 98/100\n",
            "18/18 [==============================] - 4s 197ms/step - loss: 0.0060 - val_loss: 0.0046\n",
            "Epoch 99/100\n",
            "18/18 [==============================] - 4s 196ms/step - loss: 0.0068 - val_loss: 0.0047\n",
            "Epoch 100/100\n",
            "18/18 [==============================] - 4s 196ms/step - loss: 0.0058 - val_loss: 0.0045\n"
          ],
          "name": "stdout"
        },
        {
          "output_type": "execute_result",
          "data": {
            "text/plain": [
              "<tensorflow.python.keras.callbacks.History at 0x7f7259710790>"
            ]
          },
          "metadata": {
            "tags": []
          },
          "execution_count": 71
        }
      ]
    },
    {
      "cell_type": "code",
      "metadata": {
        "id": "hE4DV9aysqMX"
      },
      "source": [
        "### Lets Do the prediction and check performance metrics\n",
        "train_predict=model.predict(X_train)\n",
        "test_predict=model.predict(X_test)"
      ],
      "execution_count": null,
      "outputs": []
    },
    {
      "cell_type": "code",
      "metadata": {
        "id": "9qZ_yUUosqMb"
      },
      "source": [
        "##Transformback to original form\n",
        "train_predict=scaler.inverse_transform(train_predict)\n",
        "test_predict=scaler.inverse_transform(test_predict)"
      ],
      "execution_count": null,
      "outputs": []
    },
    {
      "cell_type": "code",
      "metadata": {
        "colab": {
          "base_uri": "https://localhost:8080/"
        },
        "id": "NWAcWuirsqMd",
        "outputId": "45198157-7f1a-4049-98f6-c1f5956f860e"
      },
      "source": [
        "### Calculate RMSE performance metrics\n",
        "\n",
        "math.sqrt(mean_squared_error(y_train,train_predict))"
      ],
      "execution_count": null,
      "outputs": [
        {
          "output_type": "execute_result",
          "data": {
            "text/plain": [
              "52.85305659048986"
            ]
          },
          "metadata": {
            "tags": []
          },
          "execution_count": 74
        }
      ]
    },
    {
      "cell_type": "code",
      "metadata": {
        "colab": {
          "base_uri": "https://localhost:8080/"
        },
        "id": "V4ZdNp9osqMf",
        "outputId": "20170b07-e639-482d-9c99-75b50049e2fa"
      },
      "source": [
        "### Test Data RMSE\n",
        "math.sqrt(mean_squared_error(ytest,test_predict))"
      ],
      "execution_count": null,
      "outputs": [
        {
          "output_type": "execute_result",
          "data": {
            "text/plain": [
              "51.654545088622676"
            ]
          },
          "metadata": {
            "tags": []
          },
          "execution_count": 75
        }
      ]
    },
    {
      "cell_type": "code",
      "metadata": {
        "colab": {
          "base_uri": "https://localhost:8080/",
          "height": 281
        },
        "id": "LR719cOEsqMg",
        "outputId": "a5c9d489-64bd-470f-8c7d-dd19a645e0a8"
      },
      "source": [
        "### Plotting \n",
        "# shift train predictions for plotting\n",
        "look_back=100\n",
        "trainPredictPlot = np.empty_like(df1)\n",
        "trainPredictPlot[:, :] = np.nan\n",
        "trainPredictPlot[look_back:len(train_predict)+look_back, :] = train_predict\n",
        "# shift test predictions for plotting\n",
        "testPredictPlot = np.empty_like(df1)\n",
        "testPredictPlot[:, :] = np.nan\n",
        "testPredictPlot[len(train_predict)+(look_back*2)+1:len(df1)-1, :] = test_predict\n",
        "# plot baseline and predictions\n",
        "plt.plot(scaler.inverse_transform(df1))\n",
        "plt.plot(trainPredictPlot)\n",
        "plt.plot(testPredictPlot)\n",
        "plt.title('Training + Testing Data, values shown in μg/m3')\n",
        "plt.savefig('PM2.5/Training+Testing_Data.png')\n",
        "plt.show()"
      ],
      "execution_count": null,
      "outputs": [
        {
          "output_type": "display_data",
          "data": {
            "image/png": "[encoded data removed]",
            "text/plain": [
              "<Figure size 432x288 with 1 Axes>"
            ]
          },
          "metadata": {
            "tags": [],
            "needs_background": "light"
          }
        }
      ]
    },
    {
      "cell_type": "code",
      "metadata": {
        "colab": {
          "base_uri": "https://localhost:8080/"
        },
        "id": "81wNL0bRsqMh",
        "outputId": "12c1bf6a-f91e-44c7-c65e-ff9b76cedb2d"
      },
      "source": [
        "len(test_data)"
      ],
      "execution_count": null,
      "outputs": [
        {
          "output_type": "execute_result",
          "data": {
            "text/plain": [
              "133"
            ]
          },
          "metadata": {
            "tags": []
          },
          "execution_count": 77
        }
      ]
    },
    {
      "cell_type": "code",
      "metadata": {
        "colab": {
          "base_uri": "https://localhost:8080/"
        },
        "id": "C1qD2I8NsqMi",
        "outputId": "d3e40cca-a2f2-467a-f2a8-9d331c3af3da"
      },
      "source": [
        "x_input=test_data[33:].reshape(1,-1)\n",
        "x_input.shape"
      ],
      "execution_count": null,
      "outputs": [
        {
          "output_type": "execute_result",
          "data": {
            "text/plain": [
              "(1, 100)"
            ]
          },
          "metadata": {
            "tags": []
          },
          "execution_count": 78
        }
      ]
    },
    {
      "cell_type": "code",
      "metadata": {
        "id": "N3EwQ4V0sqMk"
      },
      "source": [
        "temp_input=list(x_input)\n",
        "temp_input=temp_input[0].tolist()"
      ],
      "execution_count": null,
      "outputs": []
    },
    {
      "cell_type": "code",
      "metadata": {
        "colab": {
          "base_uri": "https://localhost:8080/"
        },
        "id": "IElPAFCfsqMl",
        "outputId": "9c36ec9a-49bb-4a8b-b4f9-1ee6bb33b1d4"
      },
      "source": [
        "temp_input"
      ],
      "execution_count": null,
      "outputs": [
        {
          "output_type": "execute_result",
          "data": {
            "text/plain": [
              "[0.35568642977333464,\n",
              " 0.3098584578837969,\n",
              " 0.1861328318321291,\n",
              " 0.23760269226962288,\n",
              " 0.3297535385529051,\n",
              " 0.5122735821043255,\n",
              " 0.4984163119865387,\n",
              " 0.6499059685242008,\n",
              " 0.3805800257349302,\n",
              " 0.4036424824309611,\n",
              " 0.3440562209244779,\n",
              " 0.35712164703553406,\n",
              " 0.41096703949321983,\n",
              " 0.4113629614965852,\n",
              " 0.49881223398990404,\n",
              " 0.45654756013065423,\n",
              " 0.4603583094130457,\n",
              " 0.39963377214688706,\n",
              " 0.4467979807977828,\n",
              " 0.33688013461348115,\n",
              " 0.30886865287538356,\n",
              " 0.3435613184202712,\n",
              " 0.4021082846679204,\n",
              " 0.3817183014946056,\n",
              " 0.43274274967831344,\n",
              " 0.3564287835296447,\n",
              " 0.5477580916559438,\n",
              " 0.4020587944174998,\n",
              " 0.3940908640997724,\n",
              " 0.3500445412253786,\n",
              " 0.37281005641888554,\n",
              " 0.3669207166188261,\n",
              " 0.35078689498168864,\n",
              " 0.2899633772146887,\n",
              " 0.4197268138176779,\n",
              " 0.3845887360190043,\n",
              " 0.36212016232802136,\n",
              " 0.2681381767791745,\n",
              " 0.15213302979313076,\n",
              " 0.19929723844402653,\n",
              " 0.20894783727605662,\n",
              " 0.2652182520043551,\n",
              " 0.3394041373849352,\n",
              " 0.2872909036919727,\n",
              " 0.2561615361773731,\n",
              " 0.21632188458873602,\n",
              " 0.24532317133524698,\n",
              " 0.2589329902009304,\n",
              " 0.38077798673661295,\n",
              " 0.29639710976937544,\n",
              " 0.2575967534395724,\n",
              " 0.30634465010392953,\n",
              " 0.31916262496288234,\n",
              " 0.253192121152133,\n",
              " 0.17366128872612094,\n",
              " 0.22770464218548947,\n",
              " 0.28357913491042264,\n",
              " 0.25289517964960906,\n",
              " 0.27813520736414926,\n",
              " 0.22725922993170347,\n",
              " 0.1708403444521429,\n",
              " 0.10803721666831634,\n",
              " 0.09551618331188758,\n",
              " 0.09660496882114224,\n",
              " 0.09670394932198358,\n",
              " 0.12402256755419183,\n",
              " 0.0904681777689795,\n",
              " 0.07082054835197465,\n",
              " 0.10719588241116501,\n",
              " 0.211719291299614,\n",
              " 0.25982381470850247,\n",
              " 0.2574482826883104,\n",
              " 0.27031574779768386,\n",
              " 0.3397505691378799,\n",
              " 0.2878352964466,\n",
              " 0.27219637731366925,\n",
              " 0.31668811244184897,\n",
              " 0.39720874987627436,\n",
              " 0.3849846580223696,\n",
              " 0.3422745719093339,\n",
              " 0.3475700287043452,\n",
              " 0.32213203998812234,\n",
              " 0.2691279817875879,\n",
              " 0.2505691378798377,\n",
              " 0.3259922795209344,\n",
              " 0.4102741759873305,\n",
              " 0.18346035830941307,\n",
              " 0.22621993467286947,\n",
              " 0.2077600712659606,\n",
              " 0.1943977036523805,\n",
              " 0.16391170939324953,\n",
              " 0.1317430466198159,\n",
              " 0.11447094922300308,\n",
              " 0.1711867762050876,\n",
              " 0.14757992675442938,\n",
              " 0.14466000197961004,\n",
              " 0.1730179154706523,\n",
              " 0.06176383252499258,\n",
              " 0.04795605265762645,\n",
              " 0.058992378501435225]"
            ]
          },
          "metadata": {
            "tags": []
          },
          "execution_count": 80
        }
      ]
    },
    {
      "cell_type": "code",
      "metadata": {
        "colab": {
          "base_uri": "https://localhost:8080/"
        },
        "id": "oijPAMC2sqMn",
        "outputId": "0838eb2a-bf85-46f4-ae4e-e2b3a46bcf13"
      },
      "source": [
        "# demonstrate prediction for next 10 days\n",
        "from numpy import array\n",
        "\n",
        "lst_output=[]\n",
        "n_steps=100\n",
        "i=0\n",
        "while(i<30):\n",
        "    \n",
        "    if(len(temp_input)>100):\n",
        "        #print(temp_input)\n",
        "        x_input=np.array(temp_input[1:])\n",
        "        print(\"{} day input {}\".format(i,x_input))\n",
        "        x_input=x_input.reshape(1,-1)\n",
        "        x_input = x_input.reshape((1, n_steps, 1))\n",
        "        #print(x_input)\n",
        "        yhat = model.predict(x_input, verbose=2)\n",
        "        print(\"{} day output {}\".format(i,yhat))\n",
        "        temp_input.extend(yhat[0].tolist())\n",
        "        temp_input=temp_input[1:]\n",
        "        #print(temp_input)\n",
        "        lst_output.extend(yhat.tolist())\n",
        "        i=i+1\n",
        "    else:\n",
        "        x_input = x_input.reshape((1, n_steps,1))\n",
        "        yhat = model.predict(x_input, verbose=2)\n",
        "        print(yhat[0])\n",
        "        temp_input.extend(yhat[0].tolist())\n",
        "        print(len(temp_input))\n",
        "        lst_output.extend(yhat.tolist())\n",
        "        i=i+1\n",
        "    \n",
        "\n",
        "print(lst_output)"
      ],
      "execution_count": null,
      "outputs": [
        {
          "output_type": "stream",
          "text": [
            "1/1 - 0s\n",
            "[0.15712199]\n",
            "101\n",
            "1 day input [0.30985846 0.18613283 0.23760269 0.32975354 0.51227358 0.49841631\n",
            " 0.64990597 0.38058003 0.40364248 0.34405622 0.35712165 0.41096704\n",
            " 0.41136296 0.49881223 0.45654756 0.46035831 0.39963377 0.44679798\n",
            " 0.33688013 0.30886865 0.34356132 0.40210828 0.3817183  0.43274275\n",
            " 0.35642878 0.54775809 0.40205879 0.39409086 0.35004454 0.37281006\n",
            " 0.36692072 0.35078689 0.28996338 0.41972681 0.38458874 0.36212016\n",
            " 0.26813818 0.15213303 0.19929724 0.20894784 0.26521825 0.33940414\n",
            " 0.2872909  0.25616154 0.21632188 0.24532317 0.25893299 0.38077799\n",
            " 0.29639711 0.25759675 0.30634465 0.31916262 0.25319212 0.17366129\n",
            " 0.22770464 0.28357913 0.25289518 0.27813521 0.22725923 0.17084034\n",
            " 0.10803722 0.09551618 0.09660497 0.09670395 0.12402257 0.09046818\n",
            " 0.07082055 0.10719588 0.21171929 0.25982381 0.25744828 0.27031575\n",
            " 0.33975057 0.2878353  0.27219638 0.31668811 0.39720875 0.38498466\n",
            " 0.34227457 0.34757003 0.32213204 0.26912798 0.25056914 0.32599228\n",
            " 0.41027418 0.18346036 0.22621993 0.20776007 0.1943977  0.16391171\n",
            " 0.13174305 0.11447095 0.17118678 0.14757993 0.14466    0.17301792\n",
            " 0.06176383 0.04795605 0.05899238 0.15712199]\n",
            "1/1 - 0s\n",
            "1 day output [[0.24768767]]\n",
            "2 day input [0.18613283 0.23760269 0.32975354 0.51227358 0.49841631 0.64990597\n",
            " 0.38058003 0.40364248 0.34405622 0.35712165 0.41096704 0.41136296\n",
            " 0.49881223 0.45654756 0.46035831 0.39963377 0.44679798 0.33688013\n",
            " 0.30886865 0.34356132 0.40210828 0.3817183  0.43274275 0.35642878\n",
            " 0.54775809 0.40205879 0.39409086 0.35004454 0.37281006 0.36692072\n",
            " 0.35078689 0.28996338 0.41972681 0.38458874 0.36212016 0.26813818\n",
            " 0.15213303 0.19929724 0.20894784 0.26521825 0.33940414 0.2872909\n",
            " 0.25616154 0.21632188 0.24532317 0.25893299 0.38077799 0.29639711\n",
            " 0.25759675 0.30634465 0.31916262 0.25319212 0.17366129 0.22770464\n",
            " 0.28357913 0.25289518 0.27813521 0.22725923 0.17084034 0.10803722\n",
            " 0.09551618 0.09660497 0.09670395 0.12402257 0.09046818 0.07082055\n",
            " 0.10719588 0.21171929 0.25982381 0.25744828 0.27031575 0.33975057\n",
            " 0.2878353  0.27219638 0.31668811 0.39720875 0.38498466 0.34227457\n",
            " 0.34757003 0.32213204 0.26912798 0.25056914 0.32599228 0.41027418\n",
            " 0.18346036 0.22621993 0.20776007 0.1943977  0.16391171 0.13174305\n",
            " 0.11447095 0.17118678 0.14757993 0.14466    0.17301792 0.06176383\n",
            " 0.04795605 0.05899238 0.15712199 0.24768767]\n",
            "1/1 - 0s\n",
            "2 day output [[0.30308434]]\n",
            "3 day input [0.23760269 0.32975354 0.51227358 0.49841631 0.64990597 0.38058003\n",
            " 0.40364248 0.34405622 0.35712165 0.41096704 0.41136296 0.49881223\n",
            " 0.45654756 0.46035831 0.39963377 0.44679798 0.33688013 0.30886865\n",
            " 0.34356132 0.40210828 0.3817183  0.43274275 0.35642878 0.54775809\n",
            " 0.40205879 0.39409086 0.35004454 0.37281006 0.36692072 0.35078689\n",
            " 0.28996338 0.41972681 0.38458874 0.36212016 0.26813818 0.15213303\n",
            " 0.19929724 0.20894784 0.26521825 0.33940414 0.2872909  0.25616154\n",
            " 0.21632188 0.24532317 0.25893299 0.38077799 0.29639711 0.25759675\n",
            " 0.30634465 0.31916262 0.25319212 0.17366129 0.22770464 0.28357913\n",
            " 0.25289518 0.27813521 0.22725923 0.17084034 0.10803722 0.09551618\n",
            " 0.09660497 0.09670395 0.12402257 0.09046818 0.07082055 0.10719588\n",
            " 0.21171929 0.25982381 0.25744828 0.27031575 0.33975057 0.2878353\n",
            " 0.27219638 0.31668811 0.39720875 0.38498466 0.34227457 0.34757003\n",
            " 0.32213204 0.26912798 0.25056914 0.32599228 0.41027418 0.18346036\n",
            " 0.22621993 0.20776007 0.1943977  0.16391171 0.13174305 0.11447095\n",
            " 0.17118678 0.14757993 0.14466    0.17301792 0.06176383 0.04795605\n",
            " 0.05899238 0.15712199 0.24768767 0.30308434]\n",
            "1/1 - 0s\n",
            "3 day output [[0.32622033]]\n",
            "4 day input [0.32975354 0.51227358 0.49841631 0.64990597 0.38058003 0.40364248\n",
            " 0.34405622 0.35712165 0.41096704 0.41136296 0.49881223 0.45654756\n",
            " 0.46035831 0.39963377 0.44679798 0.33688013 0.30886865 0.34356132\n",
            " 0.40210828 0.3817183  0.43274275 0.35642878 0.54775809 0.40205879\n",
            " 0.39409086 0.35004454 0.37281006 0.36692072 0.35078689 0.28996338\n",
            " 0.41972681 0.38458874 0.36212016 0.26813818 0.15213303 0.19929724\n",
            " 0.20894784 0.26521825 0.33940414 0.2872909  0.25616154 0.21632188\n",
            " 0.24532317 0.25893299 0.38077799 0.29639711 0.25759675 0.30634465\n",
            " 0.31916262 0.25319212 0.17366129 0.22770464 0.28357913 0.25289518\n",
            " 0.27813521 0.22725923 0.17084034 0.10803722 0.09551618 0.09660497\n",
            " 0.09670395 0.12402257 0.09046818 0.07082055 0.10719588 0.21171929\n",
            " 0.25982381 0.25744828 0.27031575 0.33975057 0.2878353  0.27219638\n",
            " 0.31668811 0.39720875 0.38498466 0.34227457 0.34757003 0.32213204\n",
            " 0.26912798 0.25056914 0.32599228 0.41027418 0.18346036 0.22621993\n",
            " 0.20776007 0.1943977  0.16391171 0.13174305 0.11447095 0.17118678\n",
            " 0.14757993 0.14466    0.17301792 0.06176383 0.04795605 0.05899238\n",
            " 0.15712199 0.24768767 0.30308434 0.32622033]\n",
            "1/1 - 0s\n",
            "4 day output [[0.3282069]]\n",
            "5 day input [0.51227358 0.49841631 0.64990597 0.38058003 0.40364248 0.34405622\n",
            " 0.35712165 0.41096704 0.41136296 0.49881223 0.45654756 0.46035831\n",
            " 0.39963377 0.44679798 0.33688013 0.30886865 0.34356132 0.40210828\n",
            " 0.3817183  0.43274275 0.35642878 0.54775809 0.40205879 0.39409086\n",
            " 0.35004454 0.37281006 0.36692072 0.35078689 0.28996338 0.41972681\n",
            " 0.38458874 0.36212016 0.26813818 0.15213303 0.19929724 0.20894784\n",
            " 0.26521825 0.33940414 0.2872909  0.25616154 0.21632188 0.24532317\n",
            " 0.25893299 0.38077799 0.29639711 0.25759675 0.30634465 0.31916262\n",
            " 0.25319212 0.17366129 0.22770464 0.28357913 0.25289518 0.27813521\n",
            " 0.22725923 0.17084034 0.10803722 0.09551618 0.09660497 0.09670395\n",
            " 0.12402257 0.09046818 0.07082055 0.10719588 0.21171929 0.25982381\n",
            " 0.25744828 0.27031575 0.33975057 0.2878353  0.27219638 0.31668811\n",
            " 0.39720875 0.38498466 0.34227457 0.34757003 0.32213204 0.26912798\n",
            " 0.25056914 0.32599228 0.41027418 0.18346036 0.22621993 0.20776007\n",
            " 0.1943977  0.16391171 0.13174305 0.11447095 0.17118678 0.14757993\n",
            " 0.14466    0.17301792 0.06176383 0.04795605 0.05899238 0.15712199\n",
            " 0.24768767 0.30308434 0.32622033 0.3282069 ]\n",
            "1/1 - 0s\n",
            "5 day output [[0.32066706]]\n",
            "6 day input [0.49841631 0.64990597 0.38058003 0.40364248 0.34405622 0.35712165\n",
            " 0.41096704 0.41136296 0.49881223 0.45654756 0.46035831 0.39963377\n",
            " 0.44679798 0.33688013 0.30886865 0.34356132 0.40210828 0.3817183\n",
            " 0.43274275 0.35642878 0.54775809 0.40205879 0.39409086 0.35004454\n",
            " 0.37281006 0.36692072 0.35078689 0.28996338 0.41972681 0.38458874\n",
            " 0.36212016 0.26813818 0.15213303 0.19929724 0.20894784 0.26521825\n",
            " 0.33940414 0.2872909  0.25616154 0.21632188 0.24532317 0.25893299\n",
            " 0.38077799 0.29639711 0.25759675 0.30634465 0.31916262 0.25319212\n",
            " 0.17366129 0.22770464 0.28357913 0.25289518 0.27813521 0.22725923\n",
            " 0.17084034 0.10803722 0.09551618 0.09660497 0.09670395 0.12402257\n",
            " 0.09046818 0.07082055 0.10719588 0.21171929 0.25982381 0.25744828\n",
            " 0.27031575 0.33975057 0.2878353  0.27219638 0.31668811 0.39720875\n",
            " 0.38498466 0.34227457 0.34757003 0.32213204 0.26912798 0.25056914\n",
            " 0.32599228 0.41027418 0.18346036 0.22621993 0.20776007 0.1943977\n",
            " 0.16391171 0.13174305 0.11447095 0.17118678 0.14757993 0.14466\n",
            " 0.17301792 0.06176383 0.04795605 0.05899238 0.15712199 0.24768767\n",
            " 0.30308434 0.32622033 0.3282069  0.32066706]\n",
            "1/1 - 0s\n",
            "6 day output [[0.3103236]]\n",
            "7 day input [0.64990597 0.38058003 0.40364248 0.34405622 0.35712165 0.41096704\n",
            " 0.41136296 0.49881223 0.45654756 0.46035831 0.39963377 0.44679798\n",
            " 0.33688013 0.30886865 0.34356132 0.40210828 0.3817183  0.43274275\n",
            " 0.35642878 0.54775809 0.40205879 0.39409086 0.35004454 0.37281006\n",
            " 0.36692072 0.35078689 0.28996338 0.41972681 0.38458874 0.36212016\n",
            " 0.26813818 0.15213303 0.19929724 0.20894784 0.26521825 0.33940414\n",
            " 0.2872909  0.25616154 0.21632188 0.24532317 0.25893299 0.38077799\n",
            " 0.29639711 0.25759675 0.30634465 0.31916262 0.25319212 0.17366129\n",
            " 0.22770464 0.28357913 0.25289518 0.27813521 0.22725923 0.17084034\n",
            " 0.10803722 0.09551618 0.09660497 0.09670395 0.12402257 0.09046818\n",
            " 0.07082055 0.10719588 0.21171929 0.25982381 0.25744828 0.27031575\n",
            " 0.33975057 0.2878353  0.27219638 0.31668811 0.39720875 0.38498466\n",
            " 0.34227457 0.34757003 0.32213204 0.26912798 0.25056914 0.32599228\n",
            " 0.41027418 0.18346036 0.22621993 0.20776007 0.1943977  0.16391171\n",
            " 0.13174305 0.11447095 0.17118678 0.14757993 0.14466    0.17301792\n",
            " 0.06176383 0.04795605 0.05899238 0.15712199 0.24768767 0.30308434\n",
            " 0.32622033 0.3282069  0.32066706 0.3103236 ]\n",
            "1/1 - 0s\n",
            "7 day output [[0.3004014]]\n",
            "8 day input [0.38058003 0.40364248 0.34405622 0.35712165 0.41096704 0.41136296\n",
            " 0.49881223 0.45654756 0.46035831 0.39963377 0.44679798 0.33688013\n",
            " 0.30886865 0.34356132 0.40210828 0.3817183  0.43274275 0.35642878\n",
            " 0.54775809 0.40205879 0.39409086 0.35004454 0.37281006 0.36692072\n",
            " 0.35078689 0.28996338 0.41972681 0.38458874 0.36212016 0.26813818\n",
            " 0.15213303 0.19929724 0.20894784 0.26521825 0.33940414 0.2872909\n",
            " 0.25616154 0.21632188 0.24532317 0.25893299 0.38077799 0.29639711\n",
            " 0.25759675 0.30634465 0.31916262 0.25319212 0.17366129 0.22770464\n",
            " 0.28357913 0.25289518 0.27813521 0.22725923 0.17084034 0.10803722\n",
            " 0.09551618 0.09660497 0.09670395 0.12402257 0.09046818 0.07082055\n",
            " 0.10719588 0.21171929 0.25982381 0.25744828 0.27031575 0.33975057\n",
            " 0.2878353  0.27219638 0.31668811 0.39720875 0.38498466 0.34227457\n",
            " 0.34757003 0.32213204 0.26912798 0.25056914 0.32599228 0.41027418\n",
            " 0.18346036 0.22621993 0.20776007 0.1943977  0.16391171 0.13174305\n",
            " 0.11447095 0.17118678 0.14757993 0.14466    0.17301792 0.06176383\n",
            " 0.04795605 0.05899238 0.15712199 0.24768767 0.30308434 0.32622033\n",
            " 0.3282069  0.32066706 0.3103236  0.30040139]\n",
            "1/1 - 0s\n",
            "8 day output [[0.29221064]]\n",
            "9 day input [0.40364248 0.34405622 0.35712165 0.41096704 0.41136296 0.49881223\n",
            " 0.45654756 0.46035831 0.39963377 0.44679798 0.33688013 0.30886865\n",
            " 0.34356132 0.40210828 0.3817183  0.43274275 0.35642878 0.54775809\n",
            " 0.40205879 0.39409086 0.35004454 0.37281006 0.36692072 0.35078689\n",
            " 0.28996338 0.41972681 0.38458874 0.36212016 0.26813818 0.15213303\n",
            " 0.19929724 0.20894784 0.26521825 0.33940414 0.2872909  0.25616154\n",
            " 0.21632188 0.24532317 0.25893299 0.38077799 0.29639711 0.25759675\n",
            " 0.30634465 0.31916262 0.25319212 0.17366129 0.22770464 0.28357913\n",
            " 0.25289518 0.27813521 0.22725923 0.17084034 0.10803722 0.09551618\n",
            " 0.09660497 0.09670395 0.12402257 0.09046818 0.07082055 0.10719588\n",
            " 0.21171929 0.25982381 0.25744828 0.27031575 0.33975057 0.2878353\n",
            " 0.27219638 0.31668811 0.39720875 0.38498466 0.34227457 0.34757003\n",
            " 0.32213204 0.26912798 0.25056914 0.32599228 0.41027418 0.18346036\n",
            " 0.22621993 0.20776007 0.1943977  0.16391171 0.13174305 0.11447095\n",
            " 0.17118678 0.14757993 0.14466    0.17301792 0.06176383 0.04795605\n",
            " 0.05899238 0.15712199 0.24768767 0.30308434 0.32622033 0.3282069\n",
            " 0.32066706 0.3103236  0.30040139 0.29221064]\n",
            "1/1 - 0s\n",
            "9 day output [[0.2862811]]\n",
            "10 day input [0.34405622 0.35712165 0.41096704 0.41136296 0.49881223 0.45654756\n",
            " 0.46035831 0.39963377 0.44679798 0.33688013 0.30886865 0.34356132\n",
            " 0.40210828 0.3817183  0.43274275 0.35642878 0.54775809 0.40205879\n",
            " 0.39409086 0.35004454 0.37281006 0.36692072 0.35078689 0.28996338\n",
            " 0.41972681 0.38458874 0.36212016 0.26813818 0.15213303 0.19929724\n",
            " 0.20894784 0.26521825 0.33940414 0.2872909  0.25616154 0.21632188\n",
            " 0.24532317 0.25893299 0.38077799 0.29639711 0.25759675 0.30634465\n",
            " 0.31916262 0.25319212 0.17366129 0.22770464 0.28357913 0.25289518\n",
            " 0.27813521 0.22725923 0.17084034 0.10803722 0.09551618 0.09660497\n",
            " 0.09670395 0.12402257 0.09046818 0.07082055 0.10719588 0.21171929\n",
            " 0.25982381 0.25744828 0.27031575 0.33975057 0.2878353  0.27219638\n",
            " 0.31668811 0.39720875 0.38498466 0.34227457 0.34757003 0.32213204\n",
            " 0.26912798 0.25056914 0.32599228 0.41027418 0.18346036 0.22621993\n",
            " 0.20776007 0.1943977  0.16391171 0.13174305 0.11447095 0.17118678\n",
            " 0.14757993 0.14466    0.17301792 0.06176383 0.04795605 0.05899238\n",
            " 0.15712199 0.24768767 0.30308434 0.32622033 0.3282069  0.32066706\n",
            " 0.3103236  0.30040139 0.29221064 0.28628111]\n",
            "1/1 - 0s\n",
            "10 day output [[0.28248405]]\n",
            "11 day input [0.35712165 0.41096704 0.41136296 0.49881223 0.45654756 0.46035831\n",
            " 0.39963377 0.44679798 0.33688013 0.30886865 0.34356132 0.40210828\n",
            " 0.3817183  0.43274275 0.35642878 0.54775809 0.40205879 0.39409086\n",
            " 0.35004454 0.37281006 0.36692072 0.35078689 0.28996338 0.41972681\n",
            " 0.38458874 0.36212016 0.26813818 0.15213303 0.19929724 0.20894784\n",
            " 0.26521825 0.33940414 0.2872909  0.25616154 0.21632188 0.24532317\n",
            " 0.25893299 0.38077799 0.29639711 0.25759675 0.30634465 0.31916262\n",
            " 0.25319212 0.17366129 0.22770464 0.28357913 0.25289518 0.27813521\n",
            " 0.22725923 0.17084034 0.10803722 0.09551618 0.09660497 0.09670395\n",
            " 0.12402257 0.09046818 0.07082055 0.10719588 0.21171929 0.25982381\n",
            " 0.25744828 0.27031575 0.33975057 0.2878353  0.27219638 0.31668811\n",
            " 0.39720875 0.38498466 0.34227457 0.34757003 0.32213204 0.26912798\n",
            " 0.25056914 0.32599228 0.41027418 0.18346036 0.22621993 0.20776007\n",
            " 0.1943977  0.16391171 0.13174305 0.11447095 0.17118678 0.14757993\n",
            " 0.14466    0.17301792 0.06176383 0.04795605 0.05899238 0.15712199\n",
            " 0.24768767 0.30308434 0.32622033 0.3282069  0.32066706 0.3103236\n",
            " 0.30040139 0.29221064 0.28628111 0.28248405]\n",
            "1/1 - 0s\n",
            "11 day output [[0.28041577]]\n",
            "12 day input [0.41096704 0.41136296 0.49881223 0.45654756 0.46035831 0.39963377\n",
            " 0.44679798 0.33688013 0.30886865 0.34356132 0.40210828 0.3817183\n",
            " 0.43274275 0.35642878 0.54775809 0.40205879 0.39409086 0.35004454\n",
            " 0.37281006 0.36692072 0.35078689 0.28996338 0.41972681 0.38458874\n",
            " 0.36212016 0.26813818 0.15213303 0.19929724 0.20894784 0.26521825\n",
            " 0.33940414 0.2872909  0.25616154 0.21632188 0.24532317 0.25893299\n",
            " 0.38077799 0.29639711 0.25759675 0.30634465 0.31916262 0.25319212\n",
            " 0.17366129 0.22770464 0.28357913 0.25289518 0.27813521 0.22725923\n",
            " 0.17084034 0.10803722 0.09551618 0.09660497 0.09670395 0.12402257\n",
            " 0.09046818 0.07082055 0.10719588 0.21171929 0.25982381 0.25744828\n",
            " 0.27031575 0.33975057 0.2878353  0.27219638 0.31668811 0.39720875\n",
            " 0.38498466 0.34227457 0.34757003 0.32213204 0.26912798 0.25056914\n",
            " 0.32599228 0.41027418 0.18346036 0.22621993 0.20776007 0.1943977\n",
            " 0.16391171 0.13174305 0.11447095 0.17118678 0.14757993 0.14466\n",
            " 0.17301792 0.06176383 0.04795605 0.05899238 0.15712199 0.24768767\n",
            " 0.30308434 0.32622033 0.3282069  0.32066706 0.3103236  0.30040139\n",
            " 0.29221064 0.28628111 0.28248405 0.28041577]\n",
            "1/1 - 0s\n",
            "12 day output [[0.27944583]]\n",
            "13 day input [0.41136296 0.49881223 0.45654756 0.46035831 0.39963377 0.44679798\n",
            " 0.33688013 0.30886865 0.34356132 0.40210828 0.3817183  0.43274275\n",
            " 0.35642878 0.54775809 0.40205879 0.39409086 0.35004454 0.37281006\n",
            " 0.36692072 0.35078689 0.28996338 0.41972681 0.38458874 0.36212016\n",
            " 0.26813818 0.15213303 0.19929724 0.20894784 0.26521825 0.33940414\n",
            " 0.2872909  0.25616154 0.21632188 0.24532317 0.25893299 0.38077799\n",
            " 0.29639711 0.25759675 0.30634465 0.31916262 0.25319212 0.17366129\n",
            " 0.22770464 0.28357913 0.25289518 0.27813521 0.22725923 0.17084034\n",
            " 0.10803722 0.09551618 0.09660497 0.09670395 0.12402257 0.09046818\n",
            " 0.07082055 0.10719588 0.21171929 0.25982381 0.25744828 0.27031575\n",
            " 0.33975057 0.2878353  0.27219638 0.31668811 0.39720875 0.38498466\n",
            " 0.34227457 0.34757003 0.32213204 0.26912798 0.25056914 0.32599228\n",
            " 0.41027418 0.18346036 0.22621993 0.20776007 0.1943977  0.16391171\n",
            " 0.13174305 0.11447095 0.17118678 0.14757993 0.14466    0.17301792\n",
            " 0.06176383 0.04795605 0.05899238 0.15712199 0.24768767 0.30308434\n",
            " 0.32622033 0.3282069  0.32066706 0.3103236  0.30040139 0.29221064\n",
            " 0.28628111 0.28248405 0.28041577 0.27944583]\n",
            "1/1 - 0s\n",
            "13 day output [[0.27885926]]\n",
            "14 day input [0.49881223 0.45654756 0.46035831 0.39963377 0.44679798 0.33688013\n",
            " 0.30886865 0.34356132 0.40210828 0.3817183  0.43274275 0.35642878\n",
            " 0.54775809 0.40205879 0.39409086 0.35004454 0.37281006 0.36692072\n",
            " 0.35078689 0.28996338 0.41972681 0.38458874 0.36212016 0.26813818\n",
            " 0.15213303 0.19929724 0.20894784 0.26521825 0.33940414 0.2872909\n",
            " 0.25616154 0.21632188 0.24532317 0.25893299 0.38077799 0.29639711\n",
            " 0.25759675 0.30634465 0.31916262 0.25319212 0.17366129 0.22770464\n",
            " 0.28357913 0.25289518 0.27813521 0.22725923 0.17084034 0.10803722\n",
            " 0.09551618 0.09660497 0.09670395 0.12402257 0.09046818 0.07082055\n",
            " 0.10719588 0.21171929 0.25982381 0.25744828 0.27031575 0.33975057\n",
            " 0.2878353  0.27219638 0.31668811 0.39720875 0.38498466 0.34227457\n",
            " 0.34757003 0.32213204 0.26912798 0.25056914 0.32599228 0.41027418\n",
            " 0.18346036 0.22621993 0.20776007 0.1943977  0.16391171 0.13174305\n",
            " 0.11447095 0.17118678 0.14757993 0.14466    0.17301792 0.06176383\n",
            " 0.04795605 0.05899238 0.15712199 0.24768767 0.30308434 0.32622033\n",
            " 0.3282069  0.32066706 0.3103236  0.30040139 0.29221064 0.28628111\n",
            " 0.28248405 0.28041577 0.27944583 0.27885926]\n",
            "1/1 - 0s\n",
            "14 day output [[0.27796847]]\n",
            "15 day input [0.45654756 0.46035831 0.39963377 0.44679798 0.33688013 0.30886865\n",
            " 0.34356132 0.40210828 0.3817183  0.43274275 0.35642878 0.54775809\n",
            " 0.40205879 0.39409086 0.35004454 0.37281006 0.36692072 0.35078689\n",
            " 0.28996338 0.41972681 0.38458874 0.36212016 0.26813818 0.15213303\n",
            " 0.19929724 0.20894784 0.26521825 0.33940414 0.2872909  0.25616154\n",
            " 0.21632188 0.24532317 0.25893299 0.38077799 0.29639711 0.25759675\n",
            " 0.30634465 0.31916262 0.25319212 0.17366129 0.22770464 0.28357913\n",
            " 0.25289518 0.27813521 0.22725923 0.17084034 0.10803722 0.09551618\n",
            " 0.09660497 0.09670395 0.12402257 0.09046818 0.07082055 0.10719588\n",
            " 0.21171929 0.25982381 0.25744828 0.27031575 0.33975057 0.2878353\n",
            " 0.27219638 0.31668811 0.39720875 0.38498466 0.34227457 0.34757003\n",
            " 0.32213204 0.26912798 0.25056914 0.32599228 0.41027418 0.18346036\n",
            " 0.22621993 0.20776007 0.1943977  0.16391171 0.13174305 0.11447095\n",
            " 0.17118678 0.14757993 0.14466    0.17301792 0.06176383 0.04795605\n",
            " 0.05899238 0.15712199 0.24768767 0.30308434 0.32622033 0.3282069\n",
            " 0.32066706 0.3103236  0.30040139 0.29221064 0.28628111 0.28248405\n",
            " 0.28041577 0.27944583 0.27885926 0.27796847]\n",
            "1/1 - 0s\n",
            "15 day output [[0.27619985]]\n",
            "16 day input [0.46035831 0.39963377 0.44679798 0.33688013 0.30886865 0.34356132\n",
            " 0.40210828 0.3817183  0.43274275 0.35642878 0.54775809 0.40205879\n",
            " 0.39409086 0.35004454 0.37281006 0.36692072 0.35078689 0.28996338\n",
            " 0.41972681 0.38458874 0.36212016 0.26813818 0.15213303 0.19929724\n",
            " 0.20894784 0.26521825 0.33940414 0.2872909  0.25616154 0.21632188\n",
            " 0.24532317 0.25893299 0.38077799 0.29639711 0.25759675 0.30634465\n",
            " 0.31916262 0.25319212 0.17366129 0.22770464 0.28357913 0.25289518\n",
            " 0.27813521 0.22725923 0.17084034 0.10803722 0.09551618 0.09660497\n",
            " 0.09670395 0.12402257 0.09046818 0.07082055 0.10719588 0.21171929\n",
            " 0.25982381 0.25744828 0.27031575 0.33975057 0.2878353  0.27219638\n",
            " 0.31668811 0.39720875 0.38498466 0.34227457 0.34757003 0.32213204\n",
            " 0.26912798 0.25056914 0.32599228 0.41027418 0.18346036 0.22621993\n",
            " 0.20776007 0.1943977  0.16391171 0.13174305 0.11447095 0.17118678\n",
            " 0.14757993 0.14466    0.17301792 0.06176383 0.04795605 0.05899238\n",
            " 0.15712199 0.24768767 0.30308434 0.32622033 0.3282069  0.32066706\n",
            " 0.3103236  0.30040139 0.29221064 0.28628111 0.28248405 0.28041577\n",
            " 0.27944583 0.27885926 0.27796847 0.27619985]\n",
            "1/1 - 0s\n",
            "16 day output [[0.27317736]]\n",
            "17 day input [0.39963377 0.44679798 0.33688013 0.30886865 0.34356132 0.40210828\n",
            " 0.3817183  0.43274275 0.35642878 0.54775809 0.40205879 0.39409086\n",
            " 0.35004454 0.37281006 0.36692072 0.35078689 0.28996338 0.41972681\n",
            " 0.38458874 0.36212016 0.26813818 0.15213303 0.19929724 0.20894784\n",
            " 0.26521825 0.33940414 0.2872909  0.25616154 0.21632188 0.24532317\n",
            " 0.25893299 0.38077799 0.29639711 0.25759675 0.30634465 0.31916262\n",
            " 0.25319212 0.17366129 0.22770464 0.28357913 0.25289518 0.27813521\n",
            " 0.22725923 0.17084034 0.10803722 0.09551618 0.09660497 0.09670395\n",
            " 0.12402257 0.09046818 0.07082055 0.10719588 0.21171929 0.25982381\n",
            " 0.25744828 0.27031575 0.33975057 0.2878353  0.27219638 0.31668811\n",
            " 0.39720875 0.38498466 0.34227457 0.34757003 0.32213204 0.26912798\n",
            " 0.25056914 0.32599228 0.41027418 0.18346036 0.22621993 0.20776007\n",
            " 0.1943977  0.16391171 0.13174305 0.11447095 0.17118678 0.14757993\n",
            " 0.14466    0.17301792 0.06176383 0.04795605 0.05899238 0.15712199\n",
            " 0.24768767 0.30308434 0.32622033 0.3282069  0.32066706 0.3103236\n",
            " 0.30040139 0.29221064 0.28628111 0.28248405 0.28041577 0.27944583\n",
            " 0.27885926 0.27796847 0.27619985 0.27317736]\n",
            "1/1 - 0s\n",
            "17 day output [[0.26875138]]\n",
            "18 day input [0.44679798 0.33688013 0.30886865 0.34356132 0.40210828 0.3817183\n",
            " 0.43274275 0.35642878 0.54775809 0.40205879 0.39409086 0.35004454\n",
            " 0.37281006 0.36692072 0.35078689 0.28996338 0.41972681 0.38458874\n",
            " 0.36212016 0.26813818 0.15213303 0.19929724 0.20894784 0.26521825\n",
            " 0.33940414 0.2872909  0.25616154 0.21632188 0.24532317 0.25893299\n",
            " 0.38077799 0.29639711 0.25759675 0.30634465 0.31916262 0.25319212\n",
            " 0.17366129 0.22770464 0.28357913 0.25289518 0.27813521 0.22725923\n",
            " 0.17084034 0.10803722 0.09551618 0.09660497 0.09670395 0.12402257\n",
            " 0.09046818 0.07082055 0.10719588 0.21171929 0.25982381 0.25744828\n",
            " 0.27031575 0.33975057 0.2878353  0.27219638 0.31668811 0.39720875\n",
            " 0.38498466 0.34227457 0.34757003 0.32213204 0.26912798 0.25056914\n",
            " 0.32599228 0.41027418 0.18346036 0.22621993 0.20776007 0.1943977\n",
            " 0.16391171 0.13174305 0.11447095 0.17118678 0.14757993 0.14466\n",
            " 0.17301792 0.06176383 0.04795605 0.05899238 0.15712199 0.24768767\n",
            " 0.30308434 0.32622033 0.3282069  0.32066706 0.3103236  0.30040139\n",
            " 0.29221064 0.28628111 0.28248405 0.28041577 0.27944583 0.27885926\n",
            " 0.27796847 0.27619985 0.27317736 0.26875138]\n",
            "1/1 - 0s\n",
            "18 day output [[0.26300833]]\n",
            "19 day input [0.33688013 0.30886865 0.34356132 0.40210828 0.3817183  0.43274275\n",
            " 0.35642878 0.54775809 0.40205879 0.39409086 0.35004454 0.37281006\n",
            " 0.36692072 0.35078689 0.28996338 0.41972681 0.38458874 0.36212016\n",
            " 0.26813818 0.15213303 0.19929724 0.20894784 0.26521825 0.33940414\n",
            " 0.2872909  0.25616154 0.21632188 0.24532317 0.25893299 0.38077799\n",
            " 0.29639711 0.25759675 0.30634465 0.31916262 0.25319212 0.17366129\n",
            " 0.22770464 0.28357913 0.25289518 0.27813521 0.22725923 0.17084034\n",
            " 0.10803722 0.09551618 0.09660497 0.09670395 0.12402257 0.09046818\n",
            " 0.07082055 0.10719588 0.21171929 0.25982381 0.25744828 0.27031575\n",
            " 0.33975057 0.2878353  0.27219638 0.31668811 0.39720875 0.38498466\n",
            " 0.34227457 0.34757003 0.32213204 0.26912798 0.25056914 0.32599228\n",
            " 0.41027418 0.18346036 0.22621993 0.20776007 0.1943977  0.16391171\n",
            " 0.13174305 0.11447095 0.17118678 0.14757993 0.14466    0.17301792\n",
            " 0.06176383 0.04795605 0.05899238 0.15712199 0.24768767 0.30308434\n",
            " 0.32622033 0.3282069  0.32066706 0.3103236  0.30040139 0.29221064\n",
            " 0.28628111 0.28248405 0.28041577 0.27944583 0.27885926 0.27796847\n",
            " 0.27619985 0.27317736 0.26875138 0.26300833]\n",
            "1/1 - 0s\n",
            "19 day output [[0.25625885]]\n",
            "20 day input [0.30886865 0.34356132 0.40210828 0.3817183  0.43274275 0.35642878\n",
            " 0.54775809 0.40205879 0.39409086 0.35004454 0.37281006 0.36692072\n",
            " 0.35078689 0.28996338 0.41972681 0.38458874 0.36212016 0.26813818\n",
            " 0.15213303 0.19929724 0.20894784 0.26521825 0.33940414 0.2872909\n",
            " 0.25616154 0.21632188 0.24532317 0.25893299 0.38077799 0.29639711\n",
            " 0.25759675 0.30634465 0.31916262 0.25319212 0.17366129 0.22770464\n",
            " 0.28357913 0.25289518 0.27813521 0.22725923 0.17084034 0.10803722\n",
            " 0.09551618 0.09660497 0.09670395 0.12402257 0.09046818 0.07082055\n",
            " 0.10719588 0.21171929 0.25982381 0.25744828 0.27031575 0.33975057\n",
            " 0.2878353  0.27219638 0.31668811 0.39720875 0.38498466 0.34227457\n",
            " 0.34757003 0.32213204 0.26912798 0.25056914 0.32599228 0.41027418\n",
            " 0.18346036 0.22621993 0.20776007 0.1943977  0.16391171 0.13174305\n",
            " 0.11447095 0.17118678 0.14757993 0.14466    0.17301792 0.06176383\n",
            " 0.04795605 0.05899238 0.15712199 0.24768767 0.30308434 0.32622033\n",
            " 0.3282069  0.32066706 0.3103236  0.30040139 0.29221064 0.28628111\n",
            " 0.28248405 0.28041577 0.27944583 0.27885926 0.27796847 0.27619985\n",
            " 0.27317736 0.26875138 0.26300833 0.25625885]\n",
            "1/1 - 0s\n",
            "20 day output [[0.24901024]]\n",
            "21 day input [0.34356132 0.40210828 0.3817183  0.43274275 0.35642878 0.54775809\n",
            " 0.40205879 0.39409086 0.35004454 0.37281006 0.36692072 0.35078689\n",
            " 0.28996338 0.41972681 0.38458874 0.36212016 0.26813818 0.15213303\n",
            " 0.19929724 0.20894784 0.26521825 0.33940414 0.2872909  0.25616154\n",
            " 0.21632188 0.24532317 0.25893299 0.38077799 0.29639711 0.25759675\n",
            " 0.30634465 0.31916262 0.25319212 0.17366129 0.22770464 0.28357913\n",
            " 0.25289518 0.27813521 0.22725923 0.17084034 0.10803722 0.09551618\n",
            " 0.09660497 0.09670395 0.12402257 0.09046818 0.07082055 0.10719588\n",
            " 0.21171929 0.25982381 0.25744828 0.27031575 0.33975057 0.2878353\n",
            " 0.27219638 0.31668811 0.39720875 0.38498466 0.34227457 0.34757003\n",
            " 0.32213204 0.26912798 0.25056914 0.32599228 0.41027418 0.18346036\n",
            " 0.22621993 0.20776007 0.1943977  0.16391171 0.13174305 0.11447095\n",
            " 0.17118678 0.14757993 0.14466    0.17301792 0.06176383 0.04795605\n",
            " 0.05899238 0.15712199 0.24768767 0.30308434 0.32622033 0.3282069\n",
            " 0.32066706 0.3103236  0.30040139 0.29221064 0.28628111 0.28248405\n",
            " 0.28041577 0.27944583 0.27885926 0.27796847 0.27619985 0.27317736\n",
            " 0.26875138 0.26300833 0.25625885 0.24901024]\n",
            "1/1 - 0s\n",
            "21 day output [[0.24195267]]\n",
            "22 day input [0.40210828 0.3817183  0.43274275 0.35642878 0.54775809 0.40205879\n",
            " 0.39409086 0.35004454 0.37281006 0.36692072 0.35078689 0.28996338\n",
            " 0.41972681 0.38458874 0.36212016 0.26813818 0.15213303 0.19929724\n",
            " 0.20894784 0.26521825 0.33940414 0.2872909  0.25616154 0.21632188\n",
            " 0.24532317 0.25893299 0.38077799 0.29639711 0.25759675 0.30634465\n",
            " 0.31916262 0.25319212 0.17366129 0.22770464 0.28357913 0.25289518\n",
            " 0.27813521 0.22725923 0.17084034 0.10803722 0.09551618 0.09660497\n",
            " 0.09670395 0.12402257 0.09046818 0.07082055 0.10719588 0.21171929\n",
            " 0.25982381 0.25744828 0.27031575 0.33975057 0.2878353  0.27219638\n",
            " 0.31668811 0.39720875 0.38498466 0.34227457 0.34757003 0.32213204\n",
            " 0.26912798 0.25056914 0.32599228 0.41027418 0.18346036 0.22621993\n",
            " 0.20776007 0.1943977  0.16391171 0.13174305 0.11447095 0.17118678\n",
            " 0.14757993 0.14466    0.17301792 0.06176383 0.04795605 0.05899238\n",
            " 0.15712199 0.24768767 0.30308434 0.32622033 0.3282069  0.32066706\n",
            " 0.3103236  0.30040139 0.29221064 0.28628111 0.28248405 0.28041577\n",
            " 0.27944583 0.27885926 0.27796847 0.27619985 0.27317736 0.26875138\n",
            " 0.26300833 0.25625885 0.24901024 0.24195267]\n",
            "1/1 - 0s\n",
            "22 day output [[0.23592766]]\n",
            "23 day input [0.3817183  0.43274275 0.35642878 0.54775809 0.40205879 0.39409086\n",
            " 0.35004454 0.37281006 0.36692072 0.35078689 0.28996338 0.41972681\n",
            " 0.38458874 0.36212016 0.26813818 0.15213303 0.19929724 0.20894784\n",
            " 0.26521825 0.33940414 0.2872909  0.25616154 0.21632188 0.24532317\n",
            " 0.25893299 0.38077799 0.29639711 0.25759675 0.30634465 0.31916262\n",
            " 0.25319212 0.17366129 0.22770464 0.28357913 0.25289518 0.27813521\n",
            " 0.22725923 0.17084034 0.10803722 0.09551618 0.09660497 0.09670395\n",
            " 0.12402257 0.09046818 0.07082055 0.10719588 0.21171929 0.25982381\n",
            " 0.25744828 0.27031575 0.33975057 0.2878353  0.27219638 0.31668811\n",
            " 0.39720875 0.38498466 0.34227457 0.34757003 0.32213204 0.26912798\n",
            " 0.25056914 0.32599228 0.41027418 0.18346036 0.22621993 0.20776007\n",
            " 0.1943977  0.16391171 0.13174305 0.11447095 0.17118678 0.14757993\n",
            " 0.14466    0.17301792 0.06176383 0.04795605 0.05899238 0.15712199\n",
            " 0.24768767 0.30308434 0.32622033 0.3282069  0.32066706 0.3103236\n",
            " 0.30040139 0.29221064 0.28628111 0.28248405 0.28041577 0.27944583\n",
            " 0.27885926 0.27796847 0.27619985 0.27317736 0.26875138 0.26300833\n",
            " 0.25625885 0.24901024 0.24195267 0.23592766]\n",
            "1/1 - 0s\n",
            "23 day output [[0.23188129]]\n",
            "24 day input [0.43274275 0.35642878 0.54775809 0.40205879 0.39409086 0.35004454\n",
            " 0.37281006 0.36692072 0.35078689 0.28996338 0.41972681 0.38458874\n",
            " 0.36212016 0.26813818 0.15213303 0.19929724 0.20894784 0.26521825\n",
            " 0.33940414 0.2872909  0.25616154 0.21632188 0.24532317 0.25893299\n",
            " 0.38077799 0.29639711 0.25759675 0.30634465 0.31916262 0.25319212\n",
            " 0.17366129 0.22770464 0.28357913 0.25289518 0.27813521 0.22725923\n",
            " 0.17084034 0.10803722 0.09551618 0.09660497 0.09670395 0.12402257\n",
            " 0.09046818 0.07082055 0.10719588 0.21171929 0.25982381 0.25744828\n",
            " 0.27031575 0.33975057 0.2878353  0.27219638 0.31668811 0.39720875\n",
            " 0.38498466 0.34227457 0.34757003 0.32213204 0.26912798 0.25056914\n",
            " 0.32599228 0.41027418 0.18346036 0.22621993 0.20776007 0.1943977\n",
            " 0.16391171 0.13174305 0.11447095 0.17118678 0.14757993 0.14466\n",
            " 0.17301792 0.06176383 0.04795605 0.05899238 0.15712199 0.24768767\n",
            " 0.30308434 0.32622033 0.3282069  0.32066706 0.3103236  0.30040139\n",
            " 0.29221064 0.28628111 0.28248405 0.28041577 0.27944583 0.27885926\n",
            " 0.27796847 0.27619985 0.27317736 0.26875138 0.26300833 0.25625885\n",
            " 0.24901024 0.24195267 0.23592766 0.23188129]\n",
            "1/1 - 0s\n",
            "24 day output [[0.23080358]]\n",
            "25 day input [0.35642878 0.54775809 0.40205879 0.39409086 0.35004454 0.37281006\n",
            " 0.36692072 0.35078689 0.28996338 0.41972681 0.38458874 0.36212016\n",
            " 0.26813818 0.15213303 0.19929724 0.20894784 0.26521825 0.33940414\n",
            " 0.2872909  0.25616154 0.21632188 0.24532317 0.25893299 0.38077799\n",
            " 0.29639711 0.25759675 0.30634465 0.31916262 0.25319212 0.17366129\n",
            " 0.22770464 0.28357913 0.25289518 0.27813521 0.22725923 0.17084034\n",
            " 0.10803722 0.09551618 0.09660497 0.09670395 0.12402257 0.09046818\n",
            " 0.07082055 0.10719588 0.21171929 0.25982381 0.25744828 0.27031575\n",
            " 0.33975057 0.2878353  0.27219638 0.31668811 0.39720875 0.38498466\n",
            " 0.34227457 0.34757003 0.32213204 0.26912798 0.25056914 0.32599228\n",
            " 0.41027418 0.18346036 0.22621993 0.20776007 0.1943977  0.16391171\n",
            " 0.13174305 0.11447095 0.17118678 0.14757993 0.14466    0.17301792\n",
            " 0.06176383 0.04795605 0.05899238 0.15712199 0.24768767 0.30308434\n",
            " 0.32622033 0.3282069  0.32066706 0.3103236  0.30040139 0.29221064\n",
            " 0.28628111 0.28248405 0.28041577 0.27944583 0.27885926 0.27796847\n",
            " 0.27619985 0.27317736 0.26875138 0.26300833 0.25625885 0.24901024\n",
            " 0.24195267 0.23592766 0.23188129 0.23080358]\n",
            "1/1 - 0s\n",
            "25 day output [[0.23358002]]\n",
            "26 day input [0.54775809 0.40205879 0.39409086 0.35004454 0.37281006 0.36692072\n",
            " 0.35078689 0.28996338 0.41972681 0.38458874 0.36212016 0.26813818\n",
            " 0.15213303 0.19929724 0.20894784 0.26521825 0.33940414 0.2872909\n",
            " 0.25616154 0.21632188 0.24532317 0.25893299 0.38077799 0.29639711\n",
            " 0.25759675 0.30634465 0.31916262 0.25319212 0.17366129 0.22770464\n",
            " 0.28357913 0.25289518 0.27813521 0.22725923 0.17084034 0.10803722\n",
            " 0.09551618 0.09660497 0.09670395 0.12402257 0.09046818 0.07082055\n",
            " 0.10719588 0.21171929 0.25982381 0.25744828 0.27031575 0.33975057\n",
            " 0.2878353  0.27219638 0.31668811 0.39720875 0.38498466 0.34227457\n",
            " 0.34757003 0.32213204 0.26912798 0.25056914 0.32599228 0.41027418\n",
            " 0.18346036 0.22621993 0.20776007 0.1943977  0.16391171 0.13174305\n",
            " 0.11447095 0.17118678 0.14757993 0.14466    0.17301792 0.06176383\n",
            " 0.04795605 0.05899238 0.15712199 0.24768767 0.30308434 0.32622033\n",
            " 0.3282069  0.32066706 0.3103236  0.30040139 0.29221064 0.28628111\n",
            " 0.28248405 0.28041577 0.27944583 0.27885926 0.27796847 0.27619985\n",
            " 0.27317736 0.26875138 0.26300833 0.25625885 0.24901024 0.24195267\n",
            " 0.23592766 0.23188129 0.23080358 0.23358002]\n",
            "1/1 - 0s\n",
            "26 day output [[0.24084586]]\n",
            "27 day input [0.40205879 0.39409086 0.35004454 0.37281006 0.36692072 0.35078689\n",
            " 0.28996338 0.41972681 0.38458874 0.36212016 0.26813818 0.15213303\n",
            " 0.19929724 0.20894784 0.26521825 0.33940414 0.2872909  0.25616154\n",
            " 0.21632188 0.24532317 0.25893299 0.38077799 0.29639711 0.25759675\n",
            " 0.30634465 0.31916262 0.25319212 0.17366129 0.22770464 0.28357913\n",
            " 0.25289518 0.27813521 0.22725923 0.17084034 0.10803722 0.09551618\n",
            " 0.09660497 0.09670395 0.12402257 0.09046818 0.07082055 0.10719588\n",
            " 0.21171929 0.25982381 0.25744828 0.27031575 0.33975057 0.2878353\n",
            " 0.27219638 0.31668811 0.39720875 0.38498466 0.34227457 0.34757003\n",
            " 0.32213204 0.26912798 0.25056914 0.32599228 0.41027418 0.18346036\n",
            " 0.22621993 0.20776007 0.1943977  0.16391171 0.13174305 0.11447095\n",
            " 0.17118678 0.14757993 0.14466    0.17301792 0.06176383 0.04795605\n",
            " 0.05899238 0.15712199 0.24768767 0.30308434 0.32622033 0.3282069\n",
            " 0.32066706 0.3103236  0.30040139 0.29221064 0.28628111 0.28248405\n",
            " 0.28041577 0.27944583 0.27885926 0.27796847 0.27619985 0.27317736\n",
            " 0.26875138 0.26300833 0.25625885 0.24901024 0.24195267 0.23592766\n",
            " 0.23188129 0.23080358 0.23358002 0.24084586]\n",
            "1/1 - 0s\n",
            "27 day output [[0.2525778]]\n",
            "28 day input [0.39409086 0.35004454 0.37281006 0.36692072 0.35078689 0.28996338\n",
            " 0.41972681 0.38458874 0.36212016 0.26813818 0.15213303 0.19929724\n",
            " 0.20894784 0.26521825 0.33940414 0.2872909  0.25616154 0.21632188\n",
            " 0.24532317 0.25893299 0.38077799 0.29639711 0.25759675 0.30634465\n",
            " 0.31916262 0.25319212 0.17366129 0.22770464 0.28357913 0.25289518\n",
            " 0.27813521 0.22725923 0.17084034 0.10803722 0.09551618 0.09660497\n",
            " 0.09670395 0.12402257 0.09046818 0.07082055 0.10719588 0.21171929\n",
            " 0.25982381 0.25744828 0.27031575 0.33975057 0.2878353  0.27219638\n",
            " 0.31668811 0.39720875 0.38498466 0.34227457 0.34757003 0.32213204\n",
            " 0.26912798 0.25056914 0.32599228 0.41027418 0.18346036 0.22621993\n",
            " 0.20776007 0.1943977  0.16391171 0.13174305 0.11447095 0.17118678\n",
            " 0.14757993 0.14466    0.17301792 0.06176383 0.04795605 0.05899238\n",
            " 0.15712199 0.24768767 0.30308434 0.32622033 0.3282069  0.32066706\n",
            " 0.3103236  0.30040139 0.29221064 0.28628111 0.28248405 0.28041577\n",
            " 0.27944583 0.27885926 0.27796847 0.27619985 0.27317736 0.26875138\n",
            " 0.26300833 0.25625885 0.24901024 0.24195267 0.23592766 0.23188129\n",
            " 0.23080358 0.23358002 0.24084586 0.25257781]\n",
            "1/1 - 0s\n",
            "28 day output [[0.26811862]]\n",
            "29 day input [0.35004454 0.37281006 0.36692072 0.35078689 0.28996338 0.41972681\n",
            " 0.38458874 0.36212016 0.26813818 0.15213303 0.19929724 0.20894784\n",
            " 0.26521825 0.33940414 0.2872909  0.25616154 0.21632188 0.24532317\n",
            " 0.25893299 0.38077799 0.29639711 0.25759675 0.30634465 0.31916262\n",
            " 0.25319212 0.17366129 0.22770464 0.28357913 0.25289518 0.27813521\n",
            " 0.22725923 0.17084034 0.10803722 0.09551618 0.09660497 0.09670395\n",
            " 0.12402257 0.09046818 0.07082055 0.10719588 0.21171929 0.25982381\n",
            " 0.25744828 0.27031575 0.33975057 0.2878353  0.27219638 0.31668811\n",
            " 0.39720875 0.38498466 0.34227457 0.34757003 0.32213204 0.26912798\n",
            " 0.25056914 0.32599228 0.41027418 0.18346036 0.22621993 0.20776007\n",
            " 0.1943977  0.16391171 0.13174305 0.11447095 0.17118678 0.14757993\n",
            " 0.14466    0.17301792 0.06176383 0.04795605 0.05899238 0.15712199\n",
            " 0.24768767 0.30308434 0.32622033 0.3282069  0.32066706 0.3103236\n",
            " 0.30040139 0.29221064 0.28628111 0.28248405 0.28041577 0.27944583\n",
            " 0.27885926 0.27796847 0.27619985 0.27317736 0.26875138 0.26300833\n",
            " 0.25625885 0.24901024 0.24195267 0.23592766 0.23188129 0.23080358\n",
            " 0.23358002 0.24084586 0.25257781 0.26811862]\n",
            "1/1 - 0s\n",
            "29 day output [[0.2858999]]\n",
            "[[0.15712198615074158], [0.2476876676082611], [0.3030843436717987], [0.3262203335762024], [0.3282068967819214], [0.3206670582294464], [0.3103235960006714], [0.30040138959884644], [0.2922106385231018], [0.28628110885620117], [0.2824840545654297], [0.28041577339172363], [0.2794458270072937], [0.2788592576980591], [0.27796846628189087], [0.2761998474597931], [0.2731773555278778], [0.2687513828277588], [0.26300832629203796], [0.25625884532928467], [0.24901023507118225], [0.24195267260074615], [0.23592765629291534], [0.2318812906742096], [0.23080357909202576], [0.23358002305030823], [0.24084585905075073], [0.2525778114795685], [0.26811861991882324], [0.28589990735054016]]\n"
          ],
          "name": "stdout"
        }
      ]
    },
    {
      "cell_type": "code",
      "metadata": {
        "id": "yEmKl3wosqMo"
      },
      "source": [
        "day_new=np.arange(1,101)\n",
        "day_pred=np.arange(101,131)"
      ],
      "execution_count": null,
      "outputs": []
    },
    {
      "cell_type": "code",
      "metadata": {
        "colab": {
          "base_uri": "https://localhost:8080/"
        },
        "id": "vNaoOI3qsqMq",
        "outputId": "46ed2c6b-d3f4-465e-922c-93b52a84021a"
      },
      "source": [
        "len(df1)"
      ],
      "execution_count": null,
      "outputs": [
        {
          "output_type": "execute_result",
          "data": {
            "text/plain": [
              "1329"
            ]
          },
          "metadata": {
            "tags": []
          },
          "execution_count": 83
        }
      ]
    },
    {
      "cell_type": "code",
      "metadata": {
        "colab": {
          "base_uri": "https://localhost:8080/",
          "height": 281
        },
        "id": "zGWCq0vOsqMq",
        "outputId": "118799cd-7454-46ee-f4d9-bd107c8753d6"
      },
      "source": [
        "plt.plot(day_new,scaler.inverse_transform(df1[1229:]))\n",
        "plt.title('PM 2.5 Forecast along with previous data, values shown in μg/m3')\n",
        "plt.plot(day_pred,scaler.inverse_transform(lst_output))\n",
        "plt.savefig('PM2.5/Forecast_along_previous_data.png')"
      ],
      "execution_count": null,
      "outputs": [
        {
          "output_type": "display_data",
          "data": {
            "image/png": "[encoded data removed]",
            "text/plain": [
              "<Figure size 432x288 with 1 Axes>"
            ]
          },
          "metadata": {
            "tags": [],
            "needs_background": "light"
          }
        }
      ]
    },
    {
      "cell_type": "code",
      "metadata": {
        "colab": {
          "base_uri": "https://localhost:8080/",
          "height": 282
        },
        "id": "qwUjV_nbsqMr",
        "outputId": "70f3d61b-3db1-4bd7-b856-ba88ee1ea757"
      },
      "source": [
        "df3=df1.tolist()\n",
        "df3.extend(lst_output)\n",
        "plt.plot(df3[1329:])"
      ],
      "execution_count": null,
      "outputs": [
        {
          "output_type": "execute_result",
          "data": {
            "text/plain": [
              "[<matplotlib.lines.Line2D at 0x7f72565aa410>]"
            ]
          },
          "metadata": {
            "tags": []
          },
          "execution_count": 85
        },
        {
          "output_type": "display_data",
          "data": {
            "image/png": "[encoded data removed]",
            "text/plain": [
              "<Figure size 432x288 with 1 Axes>"
            ]
          },
          "metadata": {
            "tags": [],
            "needs_background": "light"
          }
        }
      ]
    },
    {
      "cell_type": "code",
      "metadata": {
        "id": "2xw7OMGHsqMs"
      },
      "source": [
        "df3=scaler.inverse_transform(df3).tolist()"
      ],
      "execution_count": null,
      "outputs": []
    },
    {
      "cell_type": "code",
      "metadata": {
        "colab": {
          "base_uri": "https://localhost:8080/",
          "height": 281
        },
        "id": "zBoqwEcfsqMs",
        "outputId": "057b0e64-a741-4dc0-e03f-da59623988c3"
      },
      "source": [
        "#1month forecast\n",
        "plt.title('PM 2.5 1 Month Forecast, values shown in μg/m3')\n",
        "plt.plot(df3[1329:])\n",
        "plt.savefig('PM2.5/1 monthh forecast.png')"
      ],
      "execution_count": null,
      "outputs": [
        {
          "output_type": "display_data",
          "data": {
            "image/png": "[encoded data removed]",
            "text/plain": [
              "<Figure size 432x288 with 1 Axes>"
            ]
          },
          "metadata": {
            "tags": [],
            "needs_background": "light"
          }
        }
      ]
    },
    {
      "cell_type": "code",
      "metadata": {
        "id": "-pG4ilth3-8D"
      },
      "source": [
        ""
      ],
      "execution_count": null,
      "outputs": []
    }
  ]
}